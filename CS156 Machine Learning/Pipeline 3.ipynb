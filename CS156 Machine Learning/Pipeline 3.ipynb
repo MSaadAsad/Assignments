{
  "cells": [
    {
      "cell_type": "markdown",
      "source": [
        "# **Pipeline III**"
      ],
      "metadata": {
        "id": "2AofWNohrXWN"
      }
    },
    {
      "cell_type": "markdown",
      "source": [
        "After comparing my and Ibb's music tastes, I wanted to \"delve\" into generative NLP, mainly experimenting with transformer architectures and various techniques to make them more efficient, which have been becoming more critical since computing is a significant constraint across the industry. I tried Disagreement Regularization, Grouped Query Attention, and Mixture of Depths Routing, the last two of which came out 4 months ago and 3 weeks ago, respectively. Finding that the first technique does not work, I spliced together the last two techniques to create a **novel hybrid GQA-MoD architecutre**, surpassing both of the original architectures in terms of speed while performing similarly to them on perplexity, generally superior to a \"vanilla\" implementation. It is worth mentioning that I found that this speed boost was consistent when I used CPU; it became negligible on GPU, showing that hardware has a strong impact since there might be underlying optimizations being performed on the model's running, and a \"vanilla\" Transformer model might be the target of such optimizations.\n",
        "\n",
        "I then trained a songwriter language model on it; however, I faced issues training larger models, such as gradient explosions. However, I was able to train a small model and, more importantly, propose a new hybrid architecture, at least on a tiny 4M parameter scale."
      ],
      "metadata": {
        "id": "ocFEtj4MpnQx"
      }
    },
    {
      "cell_type": "markdown",
      "metadata": {
        "id": "ZwHQlKyqtd2r"
      },
      "source": [
        "## **Load Data**"
      ]
    },
    {
      "cell_type": "markdown",
      "source": [
        "Since training would require a lot of data and Spotify is only so generous with their API, I decided to use an external song lyrics dataset from [Kaggle]((https://www.kaggle.com/datasets/terminate9298/songs-lyrics?select=lyrics.csv) ) that includes lyrics from over 25,000 songs, mostly in English, by 500 unique artists. The dataset contains a total of 7,619,966 unique words, providing sufficient data to train a small language model. I added artist names to the dataset hoping this would help the model learn specific artistic styles, thereby enhancing its ability to generate artist-specific lyrics upon inference. I employed byte-pair encoding to tokenize the dataset, which groups together frequently co-occurring characters. The total number of unique words in my dataset was just under 5,000."
      ],
      "metadata": {
        "id": "v0LyXiSqp4tt"
      }
    },
    {
      "cell_type": "code",
      "execution_count": null,
      "metadata": {
        "colab": {
          "base_uri": "https://localhost:8080/"
        },
        "id": "q-mP1u6_q5FM",
        "outputId": "83ed0ec1-7eaf-46ab-d793-90955ede023a"
      },
      "outputs": [
        {
          "output_type": "stream",
          "name": "stdout",
          "text": [
            "Collecting bpemb\n",
            "  Downloading bpemb-0.3.5-py3-none-any.whl (19 kB)\n",
            "Requirement already satisfied: gensim in /usr/local/lib/python3.10/dist-packages (from bpemb) (4.3.2)\n",
            "Requirement already satisfied: numpy in /usr/local/lib/python3.10/dist-packages (from bpemb) (1.25.2)\n",
            "Requirement already satisfied: requests in /usr/local/lib/python3.10/dist-packages (from bpemb) (2.31.0)\n",
            "Requirement already satisfied: sentencepiece in /usr/local/lib/python3.10/dist-packages (from bpemb) (0.1.99)\n",
            "Requirement already satisfied: tqdm in /usr/local/lib/python3.10/dist-packages (from bpemb) (4.66.2)\n",
            "Requirement already satisfied: scipy>=1.7.0 in /usr/local/lib/python3.10/dist-packages (from gensim->bpemb) (1.11.4)\n",
            "Requirement already satisfied: smart-open>=1.8.1 in /usr/local/lib/python3.10/dist-packages (from gensim->bpemb) (6.4.0)\n",
            "Requirement already satisfied: charset-normalizer<4,>=2 in /usr/local/lib/python3.10/dist-packages (from requests->bpemb) (3.3.2)\n",
            "Requirement already satisfied: idna<4,>=2.5 in /usr/local/lib/python3.10/dist-packages (from requests->bpemb) (3.7)\n",
            "Requirement already satisfied: urllib3<3,>=1.21.1 in /usr/local/lib/python3.10/dist-packages (from requests->bpemb) (2.0.7)\n",
            "Requirement already satisfied: certifi>=2017.4.17 in /usr/local/lib/python3.10/dist-packages (from requests->bpemb) (2024.2.2)\n",
            "Installing collected packages: bpemb\n",
            "Successfully installed bpemb-0.3.5\n"
          ]
        }
      ],
      "source": [
        "pip install bpemb"
      ]
    },
    {
      "cell_type": "code",
      "execution_count": null,
      "metadata": {
        "id": "9Ujr-8mtuSoA"
      },
      "outputs": [],
      "source": [
        "from bs4 import BeautifulSoup\n",
        "import os\n",
        "import numpy as np\n",
        "import torch\n",
        "import torch.nn as nn\n",
        "import torch.optim as optim\n",
        "from torch.nn.utils import prune\n",
        "import math\n",
        "from torch.utils.tensorboard import SummaryWriter\n",
        "from torch.utils.data import DataLoader\n",
        "from datetime import datetime\n",
        "from torch.utils.data import Dataset\n",
        "from collections import Counter\n",
        "from typing import List\n",
        "from transformers import AutoTokenizer\n",
        "import pandas as pd\n",
        "import re\n",
        "from bpemb import BPEmb"
      ]
    },
    {
      "cell_type": "code",
      "execution_count": null,
      "metadata": {
        "colab": {
          "base_uri": "https://localhost:8080/"
        },
        "id": "6y1fWw4kXPim",
        "outputId": "b31b40b3-f8bc-4a39-eee8-70e29e502c38"
      },
      "outputs": [
        {
          "output_type": "stream",
          "name": "stdout",
          "text": [
            "Total number of tokens: 7619966\n",
            "Maximum number of tokens in 'formatted': 3708\n",
            "Number of unique artists: 542\n"
          ]
        }
      ],
      "source": [
        "# Load data from CSV, ignoring malformed lines\n",
        "df = pd.read_csv(\"/content/lyrics.csv\", on_bad_lines='skip')\n",
        "\n",
        "# Remove the 'link' column as it's not needed\n",
        "df = df.drop(columns=['link'])\n",
        "\n",
        "# Calculate number of words in 'lyrics' assuming space as delimiter\n",
        "df['token_count'] = df['lyrics'].apply(lambda x: len(x.split()))\n",
        "print(\"Total number of tokens:\", df['token_count'].sum())\n",
        "\n",
        "# Clean the lyrics text using a predefined function\n",
        "df['artist'] = df['artist'].str.replace(' Lyrics', '')\n",
        "df['formatted'] = df.apply(lambda row: row['artist'] + (\" \" + row['lyrics'] if row['lyrics'] else \"\"), axis=1)\n",
        "df['formatted_token_count'] = df['formatted'].apply(lambda x: len(x.split()))\n",
        "max_formatted_tokens = df['formatted_token_count'].max()\n",
        "print(\"Maximum number of tokens in 'formatted':\", max_formatted_tokens)\n",
        "\n",
        "# Determine and print the number of unique artists\n",
        "unique_artists = df['artist'].nunique()\n",
        "print(\"Number of unique artists:\", unique_artists)\n",
        "\n",
        "# Convert the 'formatted' column to lowercase\n",
        "df['formatted'] = df['formatted'].str.lower()\n",
        "\n",
        "# Remove unneeded columns to tidy up the DataFrame\n",
        "df = df.drop(columns=['artist', 'token_count', 'lyrics', 'song_name', 'Unnamed: 0'])"
      ]
    },
    {
      "cell_type": "code",
      "execution_count": null,
      "metadata": {
        "id": "TxNcpUqhvNJA"
      },
      "outputs": [],
      "source": [
        "class BPETokenizer:\n",
        "    \"\"\"\n",
        "    Tokenizer based on Byte-Pair Encoding (BPE) to manage vocabulary and encoding/decoding of text.\n",
        "    \"\"\"\n",
        "    def __init__(self, lang=\"en\", vs=20000):\n",
        "        \"\"\"\n",
        "        Initialize the BPE tokenizer with specified language and vocabulary size, adding special tokens.\n",
        "        \"\"\"\n",
        "        self.bpemb = BPEmb(lang=lang, vs=vs)\n",
        "        self.vocab_size = self.bpemb.vocab_size + 2  # Account for PAD and UNK tokens\n",
        "\n",
        "        # Mapping from words to indices, offset by 2 to accommodate special tokens\n",
        "        self.word_index = {word: idx + 2 for idx, word in enumerate(self.bpemb.words)}\n",
        "        self.word_index[\"<PAD>\"] = 0\n",
        "        self.word_index[\"<UNK>\"] = 1\n",
        "\n",
        "        # Reverse mapping from indices to words\n",
        "        self.index_word = {idx: word for word, idx in self.word_index.items()}\n",
        "\n",
        "    def encode(self, text):\n",
        "        \"\"\"\n",
        "        Convert text to a list of indices. Unknown words are mapped to <UNK>.\n",
        "        \"\"\"\n",
        "        return [self.word_index.get(word, 1) for word in self.bpemb.encode(text)]\n",
        "\n",
        "    def decode(self, indices):\n",
        "        \"\"\"\n",
        "        Convert a list of indices back to text, skipping special tokens.\n",
        "        \"\"\"\n",
        "        return ''.join(self.index_word.get(idx, \"<UNK>\") for idx in indices if idx > 1)\n",
        "\n",
        "    def get_vocab_size(self):\n",
        "        \"\"\"\n",
        "        Return the total vocabulary size, including special tokens.\n",
        "        \"\"\"\n",
        "        return self.vocab_size\n",
        "\n",
        "\n",
        "class TransformersTextDataset(Dataset):\n",
        "    \"\"\"\n",
        "    Dataset class for text data prepared for training transformer models, handling tokenization and segmentation.\n",
        "    \"\"\"\n",
        "    def __init__(self, texts, seq_length, lang=\"en\", vs=20000):\n",
        "        \"\"\"\n",
        "        Initialize dataset with texts, sequence length, and tokenizer parameters.\n",
        "        \"\"\"\n",
        "        self.tokenizer = BPETokenizer(lang=lang, vs=vs)\n",
        "        self.seq_length = seq_length\n",
        "        self.tokenized_segments = self.tokenize_and_segment_texts(texts)\n",
        "\n",
        "    def tokenize_and_segment_texts(self, texts):\n",
        "        \"\"\"\n",
        "        Tokenize input texts and split into fixed-size segments, padding as needed.\n",
        "        \"\"\"\n",
        "        tokenized_segments = []\n",
        "        pad_id = self.tokenizer.word_index[\"<PAD>\"]\n",
        "        for text in texts:\n",
        "            encoded = self.tokenizer.encode(text)\n",
        "            padded_length = (len(encoded) + self.seq_length - 1) // self.seq_length * self.seq_length\n",
        "            encoded.extend([pad_id] * (padded_length - len(encoded)))\n",
        "\n",
        "            chunks = [encoded[i:i + self.seq_length] for i in range(0, len(encoded), self.seq_length)]\n",
        "            tokenized_segments.extend(chunks)\n",
        "        return tokenized_segments\n",
        "\n",
        "    def unique_words(self):\n",
        "        \"\"\"\n",
        "        Calculate the number of unique words in the tokenized segments, excluding special tokens.\n",
        "        \"\"\"\n",
        "        return len(set(word for segment in self.tokenized_segments for word in segment if word > 1))\n",
        "\n",
        "    def __len__(self):\n",
        "        \"\"\"\n",
        "        Return the number of segments in the dataset.\n",
        "        \"\"\"\n",
        "        return len(self.tokenized_segments)\n",
        "\n",
        "    def __getitem__(self, idx):\n",
        "        \"\"\"\n",
        "        Retrieve a pair of input-target sequences from the dataset by index.\n",
        "        \"\"\"\n",
        "        segment = self.tokenized_segments[idx]\n",
        "        return torch.tensor(segment[:-1], dtype=torch.long), torch.tensor(segment[1:], dtype=torch.long)"
      ]
    },
    {
      "cell_type": "code",
      "execution_count": null,
      "metadata": {
        "colab": {
          "base_uri": "https://localhost:8080/"
        },
        "id": "82ePERSE4gkl",
        "outputId": "45d211b3-d475-48b3-f3eb-99e811691d65"
      },
      "outputs": [
        {
          "output_type": "stream",
          "name": "stdout",
          "text": [
            "downloading https://nlp.h-its.org/bpemb/en/en.wiki.bpe.vs5000.model\n"
          ]
        },
        {
          "output_type": "stream",
          "name": "stderr",
          "text": [
            "100%|██████████| 315918/315918 [00:00<00:00, 1064684.37B/s]\n"
          ]
        },
        {
          "output_type": "stream",
          "name": "stdout",
          "text": [
            "downloading https://nlp.h-its.org/bpemb/en/en.wiki.bpe.vs5000.d100.w2v.bin.tar.gz\n"
          ]
        },
        {
          "output_type": "stream",
          "name": "stderr",
          "text": [
            "100%|██████████| 1888515/1888515 [00:00<00:00, 3160270.40B/s]\n"
          ]
        },
        {
          "output_type": "stream",
          "name": "stdout",
          "text": [
            "Number of unique words in dataset: 4859\n",
            "Vocabulary size of tokenizer: 5002\n",
            "Training dataset size: 180431\n",
            "Test dataset size: 45108\n"
          ]
        }
      ],
      "source": [
        "# Assume 'df' is your DataFrame and 'formatted' is the column with text data\n",
        "texts = df['formatted'].tolist()\n",
        "\n",
        "# Initialize dataset with first 1000 formatted texts, a sequence length of 64, and a vocab size of 5000\n",
        "dataset = TransformersTextDataset(texts, seq_length=64, vs=5000)\n",
        "print(f'Number of unique words in dataset: {dataset.unique_words()}')\n",
        "print(f'Vocabulary size of tokenizer: {dataset.tokenizer.get_vocab_size()}')\n",
        "\n",
        "# Calculate train/test split sizes\n",
        "train_size = int(0.8 * len(dataset))\n",
        "test_size = len(dataset) - train_size\n",
        "\n",
        "# Randomly split dataset into training and testing parts\n",
        "train_dataset, test_dataset = torch.utils.data.random_split(dataset, [train_size, test_size])\n",
        "\n",
        "# Output sizes of the splits\n",
        "print(f'Training dataset size: {len(train_dataset)}')\n",
        "print(f'Test dataset size: {len(test_dataset)}')\n",
        "\n",
        "# Create DataLoaders for batch processing of training and testing datasets\n",
        "train_loader = DataLoader(train_dataset, batch_size=32, shuffle=True)\n",
        "test_loader = DataLoader(test_dataset, batch_size=32, shuffle=False)"
      ]
    },
    {
      "cell_type": "code",
      "source": [
        "# Use GPU if available (I used L4 from Google Colab)\n",
        "device = torch.device(\"cuda\" if torch.cuda.is_available() else \"cpu\")\n",
        "print(f\"Using device: {device}\")"
      ],
      "metadata": {
        "id": "7CjZ1AghvlU3",
        "colab": {
          "base_uri": "https://localhost:8080/"
        },
        "outputId": "edf7f9c0-bcb2-4d4b-c52b-afc4f7d55240"
      },
      "execution_count": null,
      "outputs": [
        {
          "output_type": "stream",
          "name": "stdout",
          "text": [
            "Using device: cuda\n"
          ]
        }
      ]
    },
    {
      "cell_type": "markdown",
      "source": [
        "## **Metrics**"
      ],
      "metadata": {
        "id": "NJ0ikLZJs8zx"
      }
    },
    {
      "cell_type": "markdown",
      "source": [
        "Cross entropy is a measure used to quantify the difference between two probability distributions—the predicted probabilities from the model and the actual distribution as represented by the true data labels.\n",
        "\n",
        "\n",
        "In PyTorch, `torch.nn.CrossEntropyLoss` is commonly, it simplifies the process by directly accepting the raw logits from the neural network's output and the labels as class indices.\n",
        "\n",
        "\n",
        "The cross entropy loss is defined as:\n",
        "\n",
        "$$\n",
        "H(p, q) = -\\sum_{x} p(x) \\log q(x)\n",
        "$$\n",
        "\n",
        "- $p(x)$ represents the true probability distribution, where the correct class has a probability of 1 and all others have 0.\n",
        "- $q(x)$ is the predicted probability distribution over the classes, output from the model and passed through a softmax function.\n",
        "- The summation is over all classes in the vocabulary.\n",
        "\n",
        "However, when using `torch.nn.CrossEntropyLoss`, the formula simplifies and is internally computed as:\n",
        "\n",
        "$$\n",
        "H(p, q) = -\\log \\left(\\frac{e^{s_{y_i}}}{\\sum_j e^{s_j}}\\right)\n",
        "$$\n",
        "\n",
        "Here:\n",
        "- $s_{y_i}$ is the logit corresponding to the true class  $y_i$.\n",
        "- $s_j$ are the logits for all classes.\n",
        "\n",
        "**Perplexity as a Metric**\n",
        "\n",
        "Perplexity is a performance metric for language models, indicating how well a probability model predicts a sample. It calculates as the exponential of the average negative log-likelihood of predicting a sequence of words. A lower perplexity score suggests a model that predicts with higher certainty. We will use it to compare the performance of different models.\n",
        "\n",
        "The perplexity of a language model given a text is:\n",
        "\n",
        "$$\n",
        "P(W) = \\exp\\left(-\\frac{1}{N} \\sum_{i=1}^N \\log q(x_i)\\right)\n",
        "$$\n",
        "\n",
        "- $W$ denotes the sequence of words.\n",
        "- $N$ is the total number of words in $W$.\n",
        "- $q(x_i)$ is the probability assigned by the model to the actual word $x_i$ at position $i$.\n",
        "\n",
        "A lower perplexity indicates that the model is more certain about its predictions, making fewer errors. By reducing the cross entropy loss during training, we decrease perplexity, which in turn enhances the model's ability to accurately predict text and produce more coherent outputs."
      ],
      "metadata": {
        "id": "kNl9ILtSurqL"
      }
    },
    {
      "cell_type": "markdown",
      "metadata": {
        "id": "5rPgX20SnRF4"
      },
      "source": [
        "## **Vanilla Transformer**"
      ]
    },
    {
      "cell_type": "markdown",
      "source": [
        "A \"vanilla\" standard decoder-only transformer architecture is used as a baseline for comparison for all other models."
      ],
      "metadata": {
        "id": "lF1Tr0XCvOO9"
      }
    },
    {
      "cell_type": "code",
      "source": [
        "import torch\n",
        "import math\n",
        "import torch.nn as nn\n",
        "import torch.nn.functional as F\n",
        "import torch.optim as optim\n",
        "from datetime import datetime"
      ],
      "metadata": {
        "id": "utpKBUtnunPy"
      },
      "execution_count": null,
      "outputs": []
    },
    {
      "cell_type": "code",
      "execution_count": null,
      "metadata": {
        "id": "2PpGxyFixPSZ"
      },
      "outputs": [],
      "source": [
        "class TransformerDecoderLayerVanilla(nn.Module):\n",
        "    # Defines a single layer of a transformer decoder as used in the original \"Attention is All You Need\" paper.\n",
        "    def __init__(self, d_model, nhead, dim_feedforward=2048, dropout=0.1):\n",
        "        super().__init__()\n",
        "        # Multihead attention for the target sequence\n",
        "        self.self_attn = nn.MultiheadAttention(d_model, nhead, dropout=dropout)\n",
        "        # First feedforward layer\n",
        "        self.linear1 = nn.Linear(d_model, dim_feedforward)\n",
        "        # Dropout added to the output of the feedforward layers\n",
        "        self.dropout = nn.Dropout(dropout)\n",
        "        # Second feedforward layer that projects back to d_model\n",
        "        self.linear2 = nn.Linear(dim_feedforward, d_model)\n",
        "\n",
        "        # Layer normalization (first and second)\n",
        "        self.norm1 = nn.LayerNorm(d_model)\n",
        "        self.norm2 = nn.LayerNorm(d_model)\n",
        "        # Dropout for output of the self-attention and feedforward network\n",
        "        self.dropout1 = nn.Dropout(dropout)\n",
        "        self.dropout2 = nn.Dropout(dropout)\n",
        "\n",
        "    def forward(self, tgt, memory, tgt_mask=None, memory_mask=None,\n",
        "                tgt_key_padding_mask=None, memory_key_padding_mask=None, **kwargs):\n",
        "        # Self-attention on the target sequence\n",
        "        tgt2 = self.self_attn(tgt, tgt, tgt, attn_mask=tgt_mask,\n",
        "                              key_padding_mask=tgt_key_padding_mask)[0]\n",
        "        # Apply dropout and add to original target sequence for residual connection\n",
        "        tgt = tgt + self.dropout1(tgt2)\n",
        "        # Apply layer normalization\n",
        "        tgt = self.norm1(tgt)\n",
        "        # Pass through the feedforward network\n",
        "        tgt2 = self.linear2(self.dropout(nn.functional.relu(self.linear1(tgt))))\n",
        "        # Second residual connection\n",
        "        tgt = tgt + self.dropout2(tgt2)\n",
        "        # Second layer normalization\n",
        "        tgt = self.norm2(tgt)\n",
        "        return tgt\n",
        "\n",
        "class TransformerWithVanillaDecoder(nn.Module):\n",
        "    # Defines a transformer model with a stack of TransformerDecoderLayerVanilla layers\n",
        "    def __init__(self, target_vocab_size, d_model, nhead, num_decoder_layers, dim_feedforward=2048, max_seq_length=512, dropout=0.1):\n",
        "        super().__init__()\n",
        "        # Embedding layer for target vocab\n",
        "        self.embedding = nn.Embedding(target_vocab_size, d_model)\n",
        "        # Initialize the Vanilla Transformer decoder layer\n",
        "        decoder_layer = TransformerDecoderLayerVanilla(d_model, nhead, dim_feedforward, dropout)\n",
        "        # Stack of decoder layers\n",
        "        self.transformer_decoder = nn.TransformerDecoder(decoder_layer, num_layers=num_decoder_layers)\n",
        "        # Output linear layer to map decoder output to target vocabulary size\n",
        "        self.output_layer = nn.Linear(d_model, target_vocab_size)\n",
        "        # Positional encodings for input sequences\n",
        "        self.pos_encoder = self.create_positional_encoding(max_seq_length, d_model)\n",
        "        self.d_model = d_model\n",
        "\n",
        "    # Generate a mask for the sequence to prevent attention to subsequent positions\n",
        "    def generate_square_subsequent_mask(self, sz):\n",
        "        mask = (torch.triu(torch.ones(sz, sz)) == 1).transpose(0, 1)\n",
        "        mask = mask.float().masked_fill(mask == 0, float('-inf')).masked_fill(mask == 1, float(0.0))\n",
        "        return mask\n",
        "\n",
        "    # Create Sinosidal Positional Encoding\n",
        "    def create_positional_encoding(self, length, d_model):\n",
        "        position = torch.arange(length).unsqueeze(1)\n",
        "        div_term = torch.exp(torch.arange(0, d_model, 2) * -(math.log(10000.0) / d_model))\n",
        "        pos_encoder = torch.zeros(length, d_model)\n",
        "        pos_encoder[:, 0::2] = torch.sin(position * div_term)\n",
        "        pos_encoder[:, 1::2] = torch.cos(position * div_term)\n",
        "        return nn.Parameter(pos_encoder, requires_grad=False)\n",
        "\n",
        "    # Define the forward pass\n",
        "    def forward(self, tgt):\n",
        "        tgt_seq_length = tgt.size(0)\n",
        "        batch_size = tgt.size(1)\n",
        "\n",
        "        tgt_mask = self.generate_square_subsequent_mask(tgt_seq_length).to(tgt.device)\n",
        "\n",
        "        tgt = self.embedding(tgt) * math.sqrt(self.d_model)\n",
        "        pos_encoder = self.pos_encoder[:tgt_seq_length, :].unsqueeze(1).expand(-1, batch_size, -1).to(tgt.device)\n",
        "\n",
        "        tgt = tgt + pos_encoder\n",
        "        memory = tgt.clone()\n",
        "        output = self.transformer_decoder(tgt, memory, tgt_mask=tgt_mask)\n",
        "        output = self.output_layer(output)\n",
        "        return output"
      ]
    },
    {
      "cell_type": "code",
      "execution_count": null,
      "metadata": {
        "colab": {
          "base_uri": "https://localhost:8080/"
        },
        "id": "ghDSNjEpsSaX",
        "outputId": "9ef17bb9-d2e2-439c-bd1d-7053868869b3"
      },
      "outputs": [
        {
          "output_type": "stream",
          "name": "stdout",
          "text": [
            "Epoch 0, Total Loss: 903.3834438323975, Training Time: 26.458033 seconds\n",
            "Epoch 1, Total Loss: 704.1775319576263, Training Time: 25.798196 seconds\n",
            "Epoch 2, Total Loss: 649.334231376648, Training Time: 25.501088 seconds\n"
          ]
        }
      ],
      "source": [
        "# Setting hyperparameters for the model\n",
        "vocab_size = 5002  # Total number of words (including special tokens) in the vocabulary\n",
        "d_model = 64  # Dimensionality of the embedding layer and all transformer layers\n",
        "nhead = 8  # Number of attention heads in each attention layer of the transformer\n",
        "num_decoder_layers = 4  # Total number of stacked decoder layers in the transformer\n",
        "dim_feedforward = 512  # Dimensionality of the feedforward network model in transformer\n",
        "max_seq_length = 64  # Maximum length of input sequences\n",
        "dropout = 0.1  # Dropout rate applied in attention and feedforward networks\n",
        "\n",
        "# Create an instance of the Transformer model configured with the specified parameters\n",
        "model = TransformerWithVanillaDecoder(\n",
        "    target_vocab_size=vocab_size,\n",
        "    d_model=d_model,\n",
        "    nhead=nhead,\n",
        "    num_decoder_layers=num_decoder_layers,\n",
        "    dim_feedforward=dim_feedforward,\n",
        "    max_seq_length=max_seq_length,\n",
        "    dropout=dropout\n",
        ").to(device)  # Ensure the model is on the correct device (GPU or CPU)\n",
        "\n",
        "# Define the loss function for training with CrossEntropy, which is typical for classification tasks\n",
        "loss_fn = nn.CrossEntropyLoss().to(device)  # Move loss function to the same device as model\n",
        "\n",
        "# Set up the optimizer that will update the weights of the model during training\n",
        "optimizer = optim.Adam(model.parameters(), lr=0.001)  # Using Adam optimizer with learning rate of 0.001\n",
        "\n",
        "# Number of training epochs - the complete passes over the dataset\n",
        "epochs = 3\n",
        "\n",
        "# Training loop\n",
        "for epoch in range(epochs):\n",
        "    start_time = datetime.now()  # Record the start time for the epoch\n",
        "    model.train()  # Set the model to training mode which enables dropout layers and batch normalization\n",
        "    total_loss = 0  # Initialize total loss for the epoch\n",
        "\n",
        "    # Iterate over batches of data from the training loader\n",
        "    for batch in train_loader:\n",
        "        inputs, targets = batch\n",
        "\n",
        "        # Ensure data tensors are on the correct device\n",
        "        inputs = inputs.long().to(device)\n",
        "        targets = targets.long().to(device)\n",
        "\n",
        "        # Reset gradients from the previous iteration\n",
        "        optimizer.zero_grad()\n",
        "        # Forward pass: compute predicted outputs by passing inputs to the model\n",
        "        output = model(inputs)\n",
        "        # Reshape the model output and targets to fit the loss function requirements\n",
        "        output = output.reshape(-1, vocab_size)  # Flatten output for cross-entropy which expects 2D inputs\n",
        "        targets = targets.reshape(-1)\n",
        "\n",
        "        # Compute loss between the model output and true targets\n",
        "        loss = loss_fn(output, targets)\n",
        "        loss.backward()  # Perform backpropagation to compute gradients\n",
        "        optimizer.step()  # Update model weights\n",
        "\n",
        "        total_loss += loss.item()  # Aggregate the loss over the epoch\n",
        "\n",
        "    # Calculate the duration of training in seconds\n",
        "    end_time = datetime.now()\n",
        "    training_time = (end_time - start_time).total_seconds()\n",
        "\n",
        "    # Log training details\n",
        "    print(f\"Epoch {epoch}, Total Loss: {total_loss}, Training Time: {training_time} seconds\")"
      ]
    },
    {
      "cell_type": "code",
      "execution_count": null,
      "metadata": {
        "id": "l8MQ2XcKDdiK"
      },
      "outputs": [],
      "source": [
        "model1 = model"
      ]
    },
    {
      "cell_type": "code",
      "execution_count": null,
      "metadata": {
        "colab": {
          "base_uri": "https://localhost:8080/"
        },
        "id": "496sUyxZr5gq",
        "outputId": "a7104dd4-0f7c-4600-b70d-85f6a9f82ce6"
      },
      "outputs": [
        {
          "output_type": "stream",
          "name": "stdout",
          "text": [
            "The model has approximately 977290 trainable parameters.\n"
          ]
        }
      ],
      "source": [
        "# Approximate model size by counting parameters\n",
        "model.eval()\n",
        "model_parameters = sum(p.numel() for p in model.parameters() if p.requires_grad)\n",
        "print(f'The model has approximately {model_parameters} trainable parameters.')"
      ]
    },
    {
      "cell_type": "code",
      "execution_count": null,
      "metadata": {
        "colab": {
          "base_uri": "https://localhost:8080/"
        },
        "id": "8UXRRWJOs_8l",
        "outputId": "bcb3776d-0313-4437-9cd8-72af08ffe959"
      },
      "outputs": [
        {
          "output_type": "stream",
          "name": "stdout",
          "text": [
            "▁hectorrirs▁you▁sayie:m▁time▁too,▁baby▁t▁seasons▁i't▁let▁me▁th▁got▁done..im▁bet▁we▁would▁be▁too▁on▁falled▁alongly▁blue.y▁could▁all▁that▁man▁what▁it,▁(no\n"
          ]
        }
      ],
      "source": [
        "import torch\n",
        "import torch.nn.functional as F\n",
        "\n",
        "def generate_text(model, start_sequence, max_length=50, temperature=1.2, top_p=0.9):\n",
        "    \"\"\"\n",
        "    Generates text from a starting sequence using the transformer model with top-p sampling.\n",
        "    \"\"\"\n",
        "    model.eval()  # Switch model to evaluation mode (disables dropout)\n",
        "    sequence = start_sequence  # Initialize sequence with the start_sequence provided\n",
        "\n",
        "    # Disable gradient calculations for efficiency and safety (model weights won't be updated)\n",
        "    with torch.no_grad():\n",
        "        for _ in range(max_length):  # Generate up to max_length tokens\n",
        "            output = model(sequence)  # Forward pass through the model\n",
        "            logits = output[:, -1, :] / temperature  # Scale logits by temperature to smooth the distribution\n",
        "\n",
        "            # Sort logits to facilitate top-p filtering\n",
        "            sorted_logits, sorted_indices = torch.sort(logits, descending=True)\n",
        "            cumulative_probs = torch.cumsum(F.softmax(sorted_logits, dim=-1), dim=-1)  # Cumulative probabilities\n",
        "\n",
        "            # Remove tokens by setting their positions in the logits to -infinity if their cumulative probability exceeds top_p\n",
        "            sorted_indices_to_remove = cumulative_probs > top_p\n",
        "            sorted_indices_to_remove[..., 1:] = sorted_indices_to_remove[..., :-1].clone()  # Shift right to include the first token above the threshold\n",
        "            sorted_indices_to_remove[..., 0] = 0  # Always keep the first token\n",
        "\n",
        "            indices_to_remove = sorted_indices[sorted_indices_to_remove]\n",
        "            logits[:, indices_to_remove] = float('-inf')  # Apply filtering\n",
        "\n",
        "            probabilities = F.softmax(logits, dim=-1)  # Recompute probabilities after filtering\n",
        "            next_token = torch.multinomial(probabilities, 1)  # Sample the next token\n",
        "\n",
        "            sequence = torch.cat([sequence, next_token], dim=1)  # Append generated token to sequence\n",
        "            if next_token.item() == eos_token_id:  # Stop if EOS token is generated\n",
        "                break\n",
        "\n",
        "    return sequence  # Return the generated sequence\n",
        "\n",
        "# Prepare input text\n",
        "start_text = \"hector\"\n",
        "start_sequence = torch.tensor([dataset.tokenizer.encode(start_text)], dtype=torch.long)  # Encode text to sequence of indices\n",
        "eos_token_id = dataset.tokenizer.word_index.get(\"<EOS>\", -1)  # Get EOS token ID, defaulting to -1 if not found\n",
        "\n",
        "# Generate text from the model\n",
        "generated_sequence = generate_text(model, start_sequence, max_length=50, temperature=1.2, top_p=0.9)\n",
        "generated_text = ''.join(dataset.tokenizer.decode(generated_sequence[0].tolist()))  # Decode generated sequence to text\n",
        "\n",
        "# Print the generated text\n",
        "print(generated_text)"
      ]
    },
    {
      "cell_type": "markdown",
      "metadata": {
        "id": "LjA363JaE_lS"
      },
      "source": [
        "## **Partial Disagreement Regularization**"
      ]
    },
    {
      "cell_type": "markdown",
      "source": [
        "The intuition behind having multiple heads of attention within a transformer is that they can focus on different aspects of the context of a given token within the mechanism. The idea is that due to the random initialization of weights, some of the weights will diverge and learn to pick up these diverse representations of data during training. [J. Li et al. (2018)]((https://arxiv.org/pdf/1810.10183.pdf)) proposed that this divergence could be improved by creating a regularization loss by quantifying this divergence, which when added to the normal loss function would cause the weights to diverge. Out of the three mechanisms proposed, the one found to be the most successful was disagreement regularization, where this regularization function was computed as the negative cosine similarity of all the output vectors produced by a given head for a particular input sequence.\n",
        "\n",
        "$$\n",
        "\\text{disagreement} = -\\sum_{i=1}^{H} \\sum_{j=1, j \\neq i}^{H} \\frac{O_i \\cdot O_j}{\\|O_i\\| \\|O_j\\|}\n",
        "$$\n",
        "\n",
        "\n",
        "However, disagreement regularization does not work that well, and most research that applied it has found a negligible increase in performance. Yet, given my limited resources, this slight potential increase might be helpful. I hypothesized that encouraging disagreement regularization across all layers might push the weights to diverge too highly, so I experimented with partial disagreement regularization where only the first n layers would have the disagreement regularization added to their loss, where $n=1$ is J. Li et al.'s original architecture as we include the regularization loss for all layers, and $n=0$ is a standard transformer with no divergence regularization. Like the paper, I opted to use $λ=1$ for weighting the regularization loss. Additionally, the layers with this special regularized loss were the earlier ones. I was curious whether it matters which layers had this special loss since different layers in deep neural networks pick up other aspects of the data, but I did not try experimenting with this. However, I found some interesting results based on the various values of n.\n",
        "\n",
        "I found that regularization didn't bring about any significant changes, aligning with previous findings. However, when I explored the idea of finding an ideal $n$ value for transformers, I noticed that this optimal 'n' could vary. The performance boost compared to a standard transformer was small, usually less than 1%, but it was consistent. I also observed that with a small number of attention heads, increasing $n$ too much hurt the performance. However, with more heads, accuracy improved with large n, avoiding the problem of having \"inactive\" heads. Though I didn't test up to 64 heads, the number many larger language models use, it would be interesting to see if this trend holds, especially with the right 'n' and other factors. I didn't use this method in my final model, but it shed light on hyperparameter tuning for transformers and its potential connection to pruning attention heads in such networks.\n",
        "\n",
        "The code below trains four different networks, each with 2, 4, 8, and 16 heads. These networks are evaluated with 0% to 100% of their layers incorporating a disagreement loss. The results indicate that networks with more heads tend to show improved performance, as evidenced by a lower training loss over the same number of epochs when compared to a vanilla network. The summary of this finding is illustrated in a [GIF](https://www.canva.com/design/DAGCtV2vMPk/XRd4INzhgJrC9jlY3POb1g/edit?utm_content=DAGCtV2vMPk&utm_campaign=designshare&utm_medium=link2&utm_source=sharebutton), which depicts how the training losses compare across different epochs. However, the marginal benefits do not justify the computational overhead of the regularization process, which scales as O(H^2), where H is the number of heads. Consequently, I have decided against using this approach."
      ],
      "metadata": {
        "id": "vl4KJriuqEN2"
      }
    },
    {
      "cell_type": "code",
      "source": [
        "import numpy as np\n",
        "import torch\n",
        "import torch.nn as nn\n",
        "import torch.nn.functional as F\n",
        "from torch.optim import Adam\n",
        "from torch.utils.data import DataLoader\n",
        "from datetime import datetime"
      ],
      "metadata": {
        "id": "8M6EyHPixxgY"
      },
      "execution_count": null,
      "outputs": []
    },
    {
      "cell_type": "code",
      "execution_count": null,
      "metadata": {
        "id": "bsM4-PBvgKTb"
      },
      "outputs": [],
      "source": [
        "class TransformerDecoderLayerVanilla(nn.Module):\n",
        "    def __init__(self, d_model, nhead, dim_feedforward=2048, dropout=0.1,\n",
        "                 regularization_strength=0.01, n_layers=4, reg_loss_percentage=0.5):\n",
        "        super().__init__()\n",
        "        self.self_attn = nn.MultiheadAttention(d_model, nhead, dropout=dropout)\n",
        "        self.linear1 = nn.Linear(d_model, dim_feedforward)\n",
        "        self.dropout1 = nn.Dropout(dropout)\n",
        "        self.linear2 = nn.Linear(dim_feedforward, d_model)\n",
        "        self.dropout2 = nn.Dropout(dropout)\n",
        "        self.norm1 = nn.LayerNorm(d_model)\n",
        "        self.norm2 = nn.LayerNorm(d_model)\n",
        "        self.nhead = nhead\n",
        "        self.regularization_strength = regularization_strength  # Coefficient for scaling regularization loss\n",
        "        self.n_layers = n_layers  # Total number of layers\n",
        "        self.reg_loss_percentage = reg_loss_percentage  # Percentage of layers that include regularization loss\n",
        "\n",
        "    def forward(self, tgt, memory, tgt_mask=None, memory_mask=None,\n",
        "                tgt_key_padding_mask=None, memory_key_padding_mask=None):\n",
        "        regularization_loss = 0\n",
        "        layers_with_reg = int(self.n_layers * self.reg_loss_percentage)  # Compute the actual number of layers to regularize\n",
        "\n",
        "        for layer in range(self.n_layers):\n",
        "            if layer == 0:\n",
        "                # Self-attention for the first layer\n",
        "                tgt2, _ = self.self_attn(tgt, tgt, tgt, attn_mask=tgt_mask,\n",
        "                                         key_padding_mask=tgt_key_padding_mask)\n",
        "                tgt = tgt + self.dropout1(tgt2)\n",
        "                tgt = self.norm1(tgt)\n",
        "            else:\n",
        "                # Feedforward network for subsequent layers\n",
        "                tgt2 = self.linear2(self.dropout1(F.relu(self.linear1(tgt))))\n",
        "                tgt = tgt + self.dropout2(tgt2)\n",
        "                tgt = self.norm2(tgt)\n",
        "\n",
        "            # Disagreement regularization is only applied to the first few layers as defined by `layers_with_reg`\n",
        "            if layer < layers_with_reg:\n",
        "                batch_size, seq_length, _ = tgt.size()\n",
        "                head_dim = tgt2.size(2) // self.nhead\n",
        "                tgt2_reshaped = tgt2.view(batch_size, seq_length, self.nhead, head_dim)\n",
        "                # Iterate over pairs of heads\n",
        "                for i in range(self.nhead):\n",
        "                    for j in range(i + 1, self.nhead):\n",
        "                        head_i = tgt2_reshaped[:, :, i, :]\n",
        "                        head_j = tgt2_reshaped[:, :, j, :]\n",
        "                        # Compute dot product between all pairs of heads, which measures their similarity\n",
        "                        dot_product = (head_i * head_j).sum(dim=-1)\n",
        "                        # Aggregate the absolute values of the dot products\n",
        "                        regularization_loss += dot_product.abs().mean()\n",
        "                # Normalize the regularization loss by the number of head pairs and scale by the regularization strength\n",
        "                regularization_loss *= self.regularization_strength / (self.nhead * (self.nhead - 1) / 2)\n",
        "\n",
        "        return tgt, regularization_loss  # Return both output and accumulated regularization loss\n",
        "\n",
        "\n",
        "class TransformerWithVanillaDecoder(nn.Module):\n",
        "    def __init__(self, target_vocab_size, d_model, nhead, num_decoder_layers, dim_feedforward, dropout=0.1, reg_loss_percentage=0.5):\n",
        "        super().__init__()\n",
        "        self.embedding = nn.Embedding(target_vocab_size, d_model)\n",
        "        self.pos_encoder = nn.Parameter(torch.zeros(1, 1000, d_model))\n",
        "        self.decoder_layers = nn.ModuleList([\n",
        "            TransformerDecoderLayerVanilla(d_model, nhead, dim_feedforward, dropout,\n",
        "                                           n_layers=num_decoder_layers, reg_loss_percentage=reg_loss_percentage)\n",
        "            for _ in range(num_decoder_layers)\n",
        "        ])\n",
        "        self.output_layer = nn.Linear(d_model, target_vocab_size)\n",
        "\n",
        "    def forward(self, src, src_mask=None, src_key_padding_mask=None):\n",
        "        src = self.embedding(src)\n",
        "        seq_len = src.size(1)\n",
        "        src = src + self.pos_encoder[:, :seq_len]  # Add positional encoding to the input embedding\n",
        "        output = src\n",
        "        total_reg_loss = 0\n",
        "        for layer in self.decoder_layers:\n",
        "            output, reg_loss = layer(output, None, tgt_mask=src_mask, tgt_key_padding_mask=src_key_padding_mask)\n",
        "            total_reg_loss += reg_loss  # Accumulate regularization loss from each layer\n",
        "        output = self.output_layer(output)  # Final linear transformation\n",
        "        return output, total_reg_loss  # Return final output and total accumulated regularization loss"
      ]
    },
    {
      "cell_type": "code",
      "execution_count": null,
      "metadata": {
        "colab": {
          "background_save": true,
          "base_uri": "https://localhost:8080/"
        },
        "id": "oIcYPNJ_6jgd",
        "outputId": "952317e0-a3fe-46fe-d2ec-b95363194f38"
      },
      "outputs": [
        {
          "name": "stdout",
          "output_type": "stream",
          "text": [
            "Using device: cpu\n",
            "Epoch 1, Total Loss: 575.9107503890991, Regularization Loss: 0.9826992233283818, Training Time: 94.450848 seconds\n",
            "Epoch 2, Total Loss: 448.9128608703613, Regularization Loss: 0.589318064507097, Training Time: 92.393051 seconds\n",
            "Epoch 3, Total Loss: 401.3054072856903, Regularization Loss: 0.4961168789304793, Training Time: 92.269181 seconds\n",
            "Epoch 4, Total Loss: 379.12669944763184, Regularization Loss: 0.4448927673511207, Training Time: 93.145878 seconds\n",
            "Epoch 5, Total Loss: 366.15883588790894, Regularization Loss: 0.414403029717505, Training Time: 91.941807 seconds\n",
            "Epoch 6, Total Loss: 357.57557582855225, Regularization Loss: 0.3916966130491346, Training Time: 93.45272 seconds\n",
            "Epoch 7, Total Loss: 351.0791096687317, Regularization Loss: 0.37319554248824716, Training Time: 91.436289 seconds\n",
            "Epoch 8, Total Loss: 346.23580861091614, Regularization Loss: 0.35927232285030186, Training Time: 93.370526 seconds\n",
            "Epoch 9, Total Loss: 341.9125990867615, Regularization Loss: 0.3466875087469816, Training Time: 92.724216 seconds\n",
            "Epoch 10, Total Loss: 338.7817726135254, Regularization Loss: 0.3383635273203254, Training Time: 93.758304 seconds\n"
          ]
        }
      ],
      "source": [
        "# Initialize the model\n",
        "model = TransformerWithVanillaDecoder(\n",
        "    target_vocab_size=5000,\n",
        "    d_model=64,\n",
        "    nhead=4,\n",
        "    num_decoder_layers=5,\n",
        "    dim_feedforward=512,\n",
        "    dropout=0.1\n",
        ").to(device)\n",
        "\n",
        "# Loss function and Optimizer\n",
        "loss_fn = nn.CrossEntropyLoss().to(device)\n",
        "optimizer = Adam(model.parameters(), lr=0.001)\n",
        "\n",
        "epochs = 10\n",
        "\n",
        "# Training loop\n",
        "for epoch in range(epochs):\n",
        "    start_time = datetime.now()\n",
        "    model.train()\n",
        "    total_loss = 0\n",
        "    total_reg_loss = 0\n",
        "    for batch in train_loader:\n",
        "        inputs, targets = batch\n",
        "        inputs = inputs.to(device)\n",
        "        targets = targets.to(device)\n",
        "        optimizer.zero_grad()\n",
        "        output, reg_loss = model(inputs)\n",
        "        output = output.reshape(-1, 5000)\n",
        "        targets = targets.flatten()\n",
        "        loss = loss_fn(output, targets) + reg_loss\n",
        "        loss.backward()\n",
        "        optimizer.step()\n",
        "        total_loss += loss.item()\n",
        "        total_reg_loss += reg_loss.item()\n",
        "\n",
        "    end_time = datetime.now()\n",
        "    training_time = (end_time - start_time).total_seconds()\n",
        "    print(f\"Epoch {epoch+1}, Total Loss: {total_loss}, Regularization Loss: {total_reg_loss}, Training Time: {training_time} seconds\")"
      ]
    },
    {
      "cell_type": "code",
      "execution_count": null,
      "metadata": {
        "id": "LbqXJz_AHHJf"
      },
      "outputs": [],
      "source": [
        "def train_model(reg_loss_percentage, epochs, data_loader):\n",
        "    model = TransformerWithVanillaDecoder(\n",
        "        target_vocab_size=14559,\n",
        "        d_model=16,\n",
        "        nhead=4,\n",
        "        num_decoder_layers=5,\n",
        "        dim_feedforward=512,\n",
        "        dropout=0.1,\n",
        "        reg_loss_percentage=reg_loss_percentage\n",
        "    ).to(device)\n",
        "\n",
        "    loss_fn = nn.CrossEntropyLoss().to(device)\n",
        "    optimizer = Adam(model.parameters(), lr=0.001)\n",
        "\n",
        "    epoch_losses = []\n",
        "\n",
        "    for epoch in range(epochs):\n",
        "        model.train()\n",
        "        total_loss = 0\n",
        "        total_reg_loss = 0\n",
        "        for batch in data_loader:\n",
        "            inputs, targets = batch\n",
        "            inputs = inputs.to(device)\n",
        "            targets = targets.to(device)\n",
        "\n",
        "            optimizer.zero_grad()\n",
        "            output, reg_loss = model(inputs)\n",
        "            output = output.reshape(-1, 14559)\n",
        "            targets = targets.flatten()\n",
        "\n",
        "            loss = loss_fn(output, targets) + reg_loss\n",
        "            loss.backward()\n",
        "            optimizer.step()\n",
        "\n",
        "            total_loss += loss.item()\n",
        "            total_reg_loss += reg_loss\n",
        "\n",
        "        epoch_losses.append(total_loss - total_reg_loss)\n",
        "\n",
        "    return epoch_losses"
      ]
    },
    {
      "cell_type": "code",
      "execution_count": null,
      "metadata": {
        "colab": {
          "base_uri": "https://localhost:8080/"
        },
        "id": "43sSnHGRIFQg",
        "outputId": "755ae6bd-2681-43ae-fae4-6d9647d1425d"
      },
      "outputs": [
        {
          "name": "stdout",
          "output_type": "stream",
          "text": [
            "Training model with 0% of layers with regularization.\n",
            "Average losses for 0% regularization: [170.61499901 165.66408329 160.62521038 155.34694958 150.0121067\n",
            " 144.99802523 140.59609938 136.92782078 134.32629356 132.60799847]\n",
            "Training model with 20.0% of layers with regularization.\n",
            "Average losses for 20.0% regularization: [170.02335 165.15771 160.28764 155.12247 149.85358 144.84746 140.37556\n",
            " 136.65784 133.99931 132.23817]\n",
            "Training model with 40.0% of layers with regularization.\n",
            "Average losses for 40.0% regularization: [170.93253 166.11005 161.18143 155.9053  150.58224 145.48611 140.95682\n",
            " 137.2521  134.3417  132.36319]\n",
            "Training model with 60.0% of layers with regularization.\n",
            "Average losses for 60.0% regularization: [170.83347 165.91663 160.98582 155.76736 150.51157 145.50748 141.01738\n",
            " 137.26266 134.37936 132.33957]\n",
            "Training model with 80.0% of layers with regularization.\n",
            "Average losses for 80.0% regularization: [170.6849  165.85353 160.83723 155.55713 150.26785 145.22173 140.74365\n",
            " 136.98447 134.19252 132.25345]\n",
            "Training model with 100.0% of layers with regularization.\n",
            "Average losses for 100.0% regularization: [171.15402 166.17546 161.17136 155.92006 150.6604  145.7211  141.26384\n",
            " 137.53726 134.67245 132.54854]\n"
          ]
        }
      ],
      "source": [
        "# Define a list of percentages to test the impact of different levels of regularization\n",
        "reg_loss_percentages = [0, 0.2, 0.4, 0.6, 0.8, 1.0]\n",
        "all_losses = []  # Initialize a list to store the average losses for each regularization percentage\n",
        "\n",
        "# Run the training multiple times for each percentage of regularization applied\n",
        "for percentage in reg_loss_percentages:\n",
        "    # Start training for a specific percentage of layers with regularization\n",
        "    print(f\"Training model with {percentage * 100}% of layers with regularization.\")\n",
        "    losses_for_percentage = []  # List to collect losses from each of the 5 training runs for the current percentage\n",
        "\n",
        "    # Repeat the training process 5 times to average out variability in training outcomes\n",
        "    for _ in range(5):\n",
        "        # Train the model and retrieve losses for 10 epochs using the current regularization percentage\n",
        "        losses = train_model(percentage, 10, train_loader)  # Assume 'train_loader' is a predefined data loader\n",
        "\n",
        "        # Ensure all loss values are properly handled to allow for data manipulation and storage\n",
        "        if isinstance(losses, torch.Tensor):\n",
        "            # If 'losses' is a single tensor, detach from the computation graph, transfer to CPU, and convert to a numpy array\n",
        "            losses = losses.detach().cpu().numpy()\n",
        "        else:\n",
        "            # If 'losses' contains multiple tensors, process each loss value in the list individually\n",
        "            losses = [loss.detach().cpu().numpy() if isinstance(loss, torch.Tensor) else loss for loss in losses]\n",
        "\n",
        "        # Store the processed losses for this training run\n",
        "        losses_for_percentage.append(losses)\n",
        "\n",
        "    # Compute the mean of the losses across the 5 runs for each epoch to stabilize the training evaluation\n",
        "    averaged_losses = np.mean(losses_for_percentage, axis=0)\n",
        "    # Store the averaged losses for this percentage of regularization\n",
        "    all_losses.append(averaged_losses.tolist())\n",
        "\n",
        "    # Output the calculated average losses for the current percentage of regularization\n",
        "    print(f\"Average losses for {percentage * 100}% regularization: {averaged_losses}\")"
      ]
    },
    {
      "cell_type": "code",
      "execution_count": null,
      "metadata": {
        "colab": {
          "base_uri": "https://localhost:8080/"
        },
        "id": "-JD02oOHXBFQ",
        "outputId": "0cd4fd93-2383-4a34-ccb4-27aaace3fd10"
      },
      "outputs": [
        {
          "name": "stdout",
          "output_type": "stream",
          "text": [
            "   Epoch  Reg 20.0%  Reg 40.0%  Reg 60.0%  Reg 80.0%  Reg 100.0%\n",
            "0      1  -0.346777   0.186107   0.128047   0.040974    0.315930\n",
            "1      2  -0.305660   0.269197   0.152443   0.114356    0.308683\n",
            "2      3  -0.210158   0.346282   0.224507   0.131999    0.340013\n",
            "3      4  -0.144504   0.359424   0.270630   0.135297    0.368922\n",
            "4      5  -0.105678   0.380061   0.332946   0.170484    0.432161\n",
            "5      6  -0.103841   0.336618   0.351351   0.154278    0.498679\n",
            "6      7  -0.156857   0.256563   0.299639   0.104948    0.474935\n",
            "7      8  -0.197172   0.236829   0.244541   0.041369    0.445082\n",
            "8      9  -0.243422   0.011473   0.039509  -0.099588    0.257702\n",
            "9     10  -0.278885  -0.184611  -0.202423  -0.267367   -0.044839\n"
          ]
        }
      ],
      "source": [
        "reg_loss_percentages = [0, 0.2, 0.4, 0.6, 0.8, 1.0]\n",
        "\n",
        "data = {'Epoch': range(1, 11)}\n",
        "\n",
        "# Calculate the percentage difference for each non-zero regularization compared to 0% reg.\n",
        "for i, percentage in enumerate(reg_loss_percentages[1:], start=1):  # Skip the first percentage since it's 0%\n",
        "    differences = []\n",
        "    for epoch in range(10):\n",
        "        base_loss = all_losses[0][epoch]\n",
        "        current_loss = all_losses[i][epoch]\n",
        "        # Convert tensor to a Python scalar if needed\n",
        "        if isinstance(base_loss, torch.Tensor):\n",
        "            base_loss = base_loss.item()\n",
        "        if isinstance(current_loss, torch.Tensor):\n",
        "            current_loss = current_loss.item()\n",
        "\n",
        "        # Calculate the percentage difference without taking absolute value\n",
        "        pct_difference = ((current_loss - base_loss) / base_loss * 100) if base_loss != 0 else 0\n",
        "        differences.append(pct_difference)\n",
        "    data[f'Reg {percentage*100}%'] = differences\n",
        "\n",
        "# Create a DataFrame to display as a table\n",
        "df = pd.DataFrame(data)\n",
        "print(df)"
      ]
    },
    {
      "cell_type": "code",
      "execution_count": null,
      "metadata": {
        "colab": {
          "base_uri": "https://localhost:8080/",
          "height": 35
        },
        "id": "boAhjGziI86a",
        "outputId": "46ac1afb-70a0-4dd5-c104-565733a1fff5"
      },
      "outputs": [
        {
          "data": {
            "application/vnd.google.colaboratory.intrinsic+json": {
              "type": "string"
            },
            "text/plain": [
              "'/content/Losses_Matrix_4.csv'"
            ]
          },
          "execution_count": 165,
          "metadata": {},
          "output_type": "execute_result"
        }
      ],
      "source": [
        "# Save the matrix to a CSV file\n",
        "losses_path = \"/content/Losses_Matrix_4.csv\"\n",
        "np.savetxt(losses_path, np.array(all_losses), delimiter=\",\", fmt=\"%f\")\n",
        "\n",
        "losses_path"
      ]
    },
    {
      "cell_type": "code",
      "execution_count": null,
      "metadata": {
        "id": "JeDUtkcHHnIN"
      },
      "outputs": [],
      "source": [
        "def train_model(reg_loss_percentage, epochs, data_loader):\n",
        "    model = TransformerWithVanillaDecoder(\n",
        "        target_vocab_size=14559,\n",
        "        d_model=16,\n",
        "        nhead=8,\n",
        "        num_decoder_layers=5,\n",
        "        dim_feedforward=512,\n",
        "        dropout=0.1,\n",
        "        reg_loss_percentage=reg_loss_percentage\n",
        "    ).to(device)\n",
        "\n",
        "    loss_fn = nn.CrossEntropyLoss().to(device)\n",
        "    optimizer = Adam(model.parameters(), lr=0.001)\n",
        "\n",
        "    epoch_losses = []\n",
        "\n",
        "    for epoch in range(epochs):\n",
        "        model.train()\n",
        "        total_loss = 0\n",
        "        total_reg_loss = 0\n",
        "        for batch in data_loader:\n",
        "            inputs, targets = batch\n",
        "            inputs = inputs.to(device)\n",
        "            targets = targets.to(device)\n",
        "\n",
        "            optimizer.zero_grad()\n",
        "            output, reg_loss = model(inputs)\n",
        "            output = output.reshape(-1, 14559)\n",
        "            targets = targets.flatten()\n",
        "\n",
        "            loss = loss_fn(output, targets) + reg_loss\n",
        "            loss.backward()\n",
        "            optimizer.step()\n",
        "\n",
        "            total_loss += loss.item()\n",
        "            total_reg_loss += reg_loss\n",
        "\n",
        "        epoch_losses.append(total_loss - total_reg_loss)\n",
        "\n",
        "    return epoch_losses"
      ]
    },
    {
      "cell_type": "code",
      "execution_count": null,
      "metadata": {
        "colab": {
          "base_uri": "https://localhost:8080/"
        },
        "id": "BShE7ZROHpBS",
        "outputId": "6d2c7e89-ccf6-437a-fec7-9e9477a0e5ff"
      },
      "outputs": [
        {
          "name": "stdout",
          "output_type": "stream",
          "text": [
            "Training model with 0% of layers with regularization.\n",
            "Average losses for 0% regularization: [170.76937122 165.89440231 160.94233952 155.69925709 150.38695278\n",
            " 145.37472954 140.95367718 137.22067709 134.52872448 132.68696356]\n",
            "Training model with 20.0% of layers with regularization.\n",
            "Average losses for 20.0% regularization: [170.92134 166.02353 161.07816 155.86206 150.5596  145.47035 140.9931\n",
            " 137.2196  134.39551 132.57455]\n",
            "Training model with 40.0% of layers with regularization.\n",
            "Average losses for 40.0% regularization: [170.52238 165.51337 160.42593 155.08554 149.69225 144.67    140.17526\n",
            " 136.52563 133.87003 131.99265]\n",
            "Training model with 60.0% of layers with regularization.\n",
            "Average losses for 60.0% regularization: [171.1307  166.23782 161.16927 155.87389 150.55106 145.51578 141.01111\n",
            " 137.24811 134.31952 132.16379]\n",
            "Training model with 80.0% of layers with regularization.\n",
            "Average losses for 80.0% regularization: [170.84598 165.945   160.98172 155.75432 150.47874 145.45514 140.91727\n",
            " 137.1235  134.16765 132.1469 ]\n",
            "Training model with 100.0% of layers with regularization.\n",
            "Average losses for 100.0% regularization: [170.89513 165.95735 160.93156 155.7208  150.4286  145.38292 140.88512\n",
            " 137.12547 134.20523 132.10867]\n"
          ]
        }
      ],
      "source": [
        "reg_loss_percentages = [0, 0.2, 0.4, 0.6, 0.8, 1.0]\n",
        "all_losses = []\n",
        "\n",
        "for percentage in reg_loss_percentages:\n",
        "    print(f\"Training model with {percentage * 100}% of layers with regularization.\")\n",
        "    losses_for_percentage = []\n",
        "\n",
        "    for _ in range(5):\n",
        "        losses = train_model(percentage, 10, train_loader)\n",
        "        if isinstance(losses, torch.Tensor):\n",
        "            losses = losses.detach().cpu().numpy()\n",
        "        else:\n",
        "            losses = [loss.detach().cpu().numpy() if isinstance(loss, torch.Tensor) else loss for loss in losses]\n",
        "        losses_for_percentage.append(losses)\n",
        "\n",
        "    averaged_losses = np.mean(losses_for_percentage, axis=0)\n",
        "    all_losses.append(averaged_losses.tolist())\n",
        "\n",
        "    print(f\"Average losses for {percentage * 100}% regularization: {averaged_losses}\")"
      ]
    },
    {
      "cell_type": "code",
      "execution_count": null,
      "metadata": {
        "colab": {
          "base_uri": "https://localhost:8080/"
        },
        "id": "1fTtlBTzHzfn",
        "outputId": "e2299205-a8a1-42a7-8111-74242f60bd3c"
      },
      "outputs": [
        {
          "name": "stdout",
          "output_type": "stream",
          "text": [
            "   Epoch  Reg 20.0%  Reg 40.0%  Reg 60.0%  Reg 80.0%  Reg 100.0%\n",
            "0      1   0.088991  -0.144632   0.211593   0.044860    0.073640\n",
            "1      2   0.077837  -0.229686   0.207012   0.030504    0.037945\n",
            "2      3   0.084388  -0.320864   0.140998   0.024469   -0.006695\n",
            "3      4   0.104563  -0.394168   0.112158   0.035364    0.013833\n",
            "4      5   0.114803  -0.461947   0.109121   0.061037    0.027696\n",
            "5      6   0.065777  -0.484769   0.097024   0.055312    0.005634\n",
            "6      7   0.027971  -0.552249   0.040745  -0.025831   -0.048641\n",
            "7      8  -0.000782  -0.506514   0.019990  -0.070815   -0.069380\n",
            "8      9  -0.099025  -0.489634  -0.155510  -0.268401   -0.240464\n",
            "9     10  -0.084718  -0.523275  -0.394293  -0.407024   -0.435831\n"
          ]
        }
      ],
      "source": [
        "reg_loss_percentages = [0, 0.2, 0.4, 0.6, 0.8, 1.0]\n",
        "\n",
        "data = {'Epoch': range(1, 11)}\n",
        "\n",
        "for i, percentage in enumerate(reg_loss_percentages[1:], start=1):\n",
        "    differences = []\n",
        "    for epoch in range(10):\n",
        "        base_loss = all_losses[0][epoch]\n",
        "        current_loss = all_losses[i][epoch]\n",
        "        if isinstance(base_loss, torch.Tensor):\n",
        "            base_loss = base_loss.item()\n",
        "        if isinstance(current_loss, torch.Tensor):\n",
        "            current_loss = current_loss.item()\n",
        "\n",
        "        pct_difference = ((current_loss - base_loss) / base_loss * 100) if base_loss != 0 else 0\n",
        "        differences.append(pct_difference)\n",
        "    data[f'Reg {percentage*100}%'] = differences\n",
        "\n",
        "df = pd.DataFrame(data)\n",
        "print(df)"
      ]
    },
    {
      "cell_type": "code",
      "execution_count": null,
      "metadata": {
        "colab": {
          "base_uri": "https://localhost:8080/",
          "height": 35
        },
        "id": "YZmzT8f9JNvu",
        "outputId": "e8485e23-91cc-4c7f-edf4-c6f3531e23d6"
      },
      "outputs": [
        {
          "data": {
            "application/vnd.google.colaboratory.intrinsic+json": {
              "type": "string"
            },
            "text/plain": [
              "'/content/Losses_Matrix_4.csv'"
            ]
          },
          "execution_count": 170,
          "metadata": {},
          "output_type": "execute_result"
        }
      ],
      "source": [
        "# Save the matrix to a CSV file\n",
        "losses_path = \"/content/Losses_Matrix_8.csv\"\n",
        "np.savetxt(losses_path, np.array(all_losses), delimiter=\",\", fmt=\"%f\")\n",
        "\n",
        "losses_path"
      ]
    },
    {
      "cell_type": "code",
      "execution_count": null,
      "metadata": {
        "id": "JwqW7czmTqHD"
      },
      "outputs": [],
      "source": [
        "def train_model(reg_loss_percentage, epochs, data_loader):\n",
        "    model = TransformerWithVanillaDecoder(\n",
        "        target_vocab_size=14559,\n",
        "        d_model=16,\n",
        "        nhead=2,\n",
        "        num_decoder_layers=5,\n",
        "        dim_feedforward=512,\n",
        "        dropout=0.1,\n",
        "        reg_loss_percentage=reg_loss_percentage\n",
        "    ).to(device)\n",
        "\n",
        "    loss_fn = nn.CrossEntropyLoss().to(device)\n",
        "    optimizer = Adam(model.parameters(), lr=0.001)\n",
        "\n",
        "    epoch_losses = []\n",
        "\n",
        "    for epoch in range(epochs):\n",
        "        model.train()\n",
        "        total_loss = 0\n",
        "        total_reg_loss = 0\n",
        "        for batch in data_loader:\n",
        "            inputs, targets = batch\n",
        "            inputs = inputs.to(device)\n",
        "            targets = targets.to(device)\n",
        "\n",
        "            optimizer.zero_grad()\n",
        "            output, reg_loss = model(inputs)\n",
        "            output = output.reshape(-1, 14559)\n",
        "            targets = targets.flatten()\n",
        "\n",
        "            loss = loss_fn(output, targets) + reg_loss\n",
        "            loss.backward()\n",
        "            optimizer.step()\n",
        "\n",
        "            total_loss += loss.item()\n",
        "            total_reg_loss += reg_loss\n",
        "\n",
        "        epoch_losses.append(total_loss - total_reg_loss)\n",
        "\n",
        "    return epoch_losses"
      ]
    },
    {
      "cell_type": "code",
      "execution_count": null,
      "metadata": {
        "colab": {
          "base_uri": "https://localhost:8080/"
        },
        "id": "Kgo487XJTugU",
        "outputId": "75a03ec9-92c5-4cb0-9773-fa22e86cbc31"
      },
      "outputs": [
        {
          "name": "stdout",
          "output_type": "stream",
          "text": [
            "Training model with 0% of layers with regularization.\n",
            "Average losses for 0% regularization: [170.77485027 165.92896137 161.018927   155.8137392  150.52088184\n",
            " 145.47832441 140.96320457 137.24323845 134.47752342 132.5915617 ]\n",
            "Training model with 20.0% of layers with regularization.\n",
            "Average losses for 20.0% regularization: [170.51814 165.68417 160.75449 155.49336 150.08366 145.02069 140.53079\n",
            " 136.87119 134.15869 132.3803 ]\n",
            "Training model with 40.0% of layers with regularization.\n",
            "Average losses for 40.0% regularization: [170.99841 166.09085 161.1077  155.83177 150.49153 145.46837 140.94818\n",
            " 137.12354 134.33626 132.3819 ]\n",
            "Training model with 60.0% of layers with regularization.\n",
            "Average losses for 60.0% regularization: [170.85583 165.99905 161.09961 155.82019 150.43922 145.34651 140.8324\n",
            " 137.08862 134.25032 132.1929 ]\n",
            "Training model with 80.0% of layers with regularization.\n",
            "Average losses for 80.0% regularization: [170.99698 166.15894 161.1893  155.92418 150.62747 145.59726 141.06209\n",
            " 137.27829 134.38669 132.33278]\n",
            "Training model with 100.0% of layers with regularization.\n",
            "Average losses for 100.0% regularization: [171.35068 166.44882 161.45224 156.24234 151.02383 146.0176  141.47908\n",
            " 137.63748 134.69875 132.45438]\n"
          ]
        }
      ],
      "source": [
        "reg_loss_percentages = [0, 0.2, 0.4, 0.6, 0.8, 1.0]\n",
        "all_losses = []\n",
        "\n",
        "for percentage in reg_loss_percentages:\n",
        "    print(f\"Training model with {percentage * 100}% of layers with regularization.\")\n",
        "    losses_for_percentage = []\n",
        "\n",
        "    for _ in range(5):\n",
        "        losses = train_model(percentage, 10, train_loader)\n",
        "        if isinstance(losses, torch.Tensor):\n",
        "            losses = losses.detach().cpu().numpy()\n",
        "        else:\n",
        "            losses = [loss.detach().cpu().numpy() if isinstance(loss, torch.Tensor) else loss for loss in losses]\n",
        "        losses_for_percentage.append(losses)\n",
        "\n",
        "    averaged_losses = np.mean(losses_for_percentage, axis=0)\n",
        "    all_losses.append(averaged_losses.tolist())\n",
        "\n",
        "    print(f\"Average losses for {percentage * 100}% regularization: {averaged_losses}\")"
      ]
    },
    {
      "cell_type": "code",
      "execution_count": null,
      "metadata": {
        "colab": {
          "base_uri": "https://localhost:8080/"
        },
        "id": "ZvcuXWy7U8w9",
        "outputId": "22147bdf-cba0-4bd9-e82e-cb2f59066f68"
      },
      "outputs": [
        {
          "name": "stdout",
          "output_type": "stream",
          "text": [
            "   Epoch  Reg 20.0%  Reg 40.0%  Reg 60.0%  Reg 80.0%  Reg 100.0%\n",
            "0      1  -0.150319   0.130911   0.047422   0.130071    0.337185\n",
            "1      2  -0.147526   0.097566   0.042243   0.138598    0.313303\n",
            "2      3  -0.164230   0.055130   0.050107   0.105810    0.269107\n",
            "3      4  -0.205615   0.011573   0.004140   0.070879    0.275073\n",
            "4      5  -0.290470  -0.019499  -0.054250   0.070814    0.334141\n",
            "5      6  -0.314572  -0.006844  -0.090606   0.081755    0.370687\n",
            "6      7  -0.306755  -0.010658  -0.092795   0.070148    0.365965\n",
            "7      8  -0.271090  -0.087220  -0.112658   0.025540    0.287259\n",
            "8      9  -0.237089  -0.105048  -0.168952  -0.067547    0.164505\n",
            "9     10  -0.159337  -0.158128  -0.300668  -0.195173   -0.103465\n"
          ]
        }
      ],
      "source": [
        "reg_loss_percentages = [0, 0.2, 0.4, 0.6, 0.8, 1.0]\n",
        "\n",
        "data = {'Epoch': range(1, 11)}\n",
        "\n",
        "for i, percentage in enumerate(reg_loss_percentages[1:], start=1):\n",
        "    differences = []\n",
        "    for epoch in range(10):\n",
        "        base_loss = all_losses[0][epoch]\n",
        "        current_loss = all_losses[i][epoch]\n",
        "        if isinstance(base_loss, torch.Tensor):\n",
        "            base_loss = base_loss.item()\n",
        "        if isinstance(current_loss, torch.Tensor):\n",
        "            current_loss = current_loss.item()\n",
        "\n",
        "        pct_difference = ((current_loss - base_loss) / base_loss * 100) if base_loss != 0 else 0\n",
        "        differences.append(pct_difference)\n",
        "    data[f'Reg {percentage*100}%'] = differences\n",
        "\n",
        "df = pd.DataFrame(data)\n",
        "print(df)"
      ]
    },
    {
      "cell_type": "code",
      "execution_count": null,
      "metadata": {
        "colab": {
          "base_uri": "https://localhost:8080/",
          "height": 35
        },
        "id": "9LmBBJj7VDNN",
        "outputId": "9758c44b-19d6-4523-c816-766e69d465ca"
      },
      "outputs": [
        {
          "data": {
            "application/vnd.google.colaboratory.intrinsic+json": {
              "type": "string"
            },
            "text/plain": [
              "'/content/Losses_Matrix_2.csv'"
            ]
          },
          "execution_count": 188,
          "metadata": {},
          "output_type": "execute_result"
        }
      ],
      "source": [
        "# Save the matrix to a CSV file\n",
        "losses_path = \"/content/Losses_Matrix_2.csv\"\n",
        "np.savetxt(losses_path, np.array(all_losses), delimiter=\",\", fmt=\"%f\")\n",
        "\n",
        "losses_path"
      ]
    },
    {
      "cell_type": "code",
      "execution_count": null,
      "metadata": {
        "id": "s3Uza7C6WiR9"
      },
      "outputs": [],
      "source": [
        "def train_model(reg_loss_percentage, epochs, data_loader):\n",
        "    model = TransformerWithVanillaDecoder(\n",
        "        target_vocab_size=14559,\n",
        "        d_model=16,\n",
        "        nhead=16,\n",
        "        num_decoder_layers=5,\n",
        "        dim_feedforward=512,\n",
        "        dropout=0.1,\n",
        "        reg_loss_percentage=reg_loss_percentage\n",
        "    ).to(device)\n",
        "\n",
        "    loss_fn = nn.CrossEntropyLoss().to(device)\n",
        "    optimizer = Adam(model.parameters(), lr=0.001)\n",
        "\n",
        "    epoch_losses = []\n",
        "\n",
        "    for epoch in range(epochs):\n",
        "        model.train()\n",
        "        total_loss = 0\n",
        "        total_reg_loss = 0\n",
        "        for batch in data_loader:\n",
        "            inputs, targets = batch\n",
        "            inputs = inputs.to(device)\n",
        "            targets = targets.to(device)\n",
        "\n",
        "            optimizer.zero_grad()\n",
        "            output, reg_loss = model(inputs)\n",
        "            output = output.reshape(-1, 14559)\n",
        "            targets = targets.flatten()\n",
        "\n",
        "            loss = loss_fn(output, targets) + reg_loss\n",
        "            loss.backward()\n",
        "            optimizer.step()\n",
        "\n",
        "            total_loss += loss.item()\n",
        "            total_reg_loss += reg_loss\n",
        "\n",
        "        epoch_losses.append(total_loss - total_reg_loss)\n",
        "\n",
        "    return epoch_losses"
      ]
    },
    {
      "cell_type": "code",
      "execution_count": null,
      "metadata": {
        "colab": {
          "base_uri": "https://localhost:8080/"
        },
        "id": "ogQd8Mu2W_Ik",
        "outputId": "47a8f6fb-2da4-4767-f68c-1c7e2919676a"
      },
      "outputs": [
        {
          "name": "stdout",
          "output_type": "stream",
          "text": [
            "Training model with 0% of layers with regularization.\n",
            "Average losses for 0% regularization: [171.28962364 166.41993866 161.50298119 156.29618549 150.9579771\n",
            " 145.9052557  141.34895306 137.57878551 134.70436535 132.7020154 ]\n",
            "Training model with 20.0% of layers with regularization.\n",
            "Average losses for 20.0% regularization: [170.29144 165.34612 160.39224 155.1837  149.87744 144.88878 140.36671\n",
            " 136.69225 134.03557 132.20906]\n",
            "Training model with 40.0% of layers with regularization.\n",
            "Average losses for 40.0% regularization: [170.94429 166.01692 161.02615 155.70421 150.41898 145.41016 141.00606\n",
            " 137.31697 134.40897 132.29561]\n",
            "Training model with 60.0% of layers with regularization.\n",
            "Average losses for 60.0% regularization: [170.82402 165.85825 160.80876 155.49565 150.13715 145.13228 140.64139\n",
            " 136.92403 134.10526 132.06314]\n",
            "Training model with 80.0% of layers with regularization.\n",
            "Average losses for 80.0% regularization: [170.3536  165.36378 160.37589 155.08682 149.83173 144.8337  140.37747\n",
            " 136.67226 133.88765 131.93515]\n",
            "Training model with 100.0% of layers with regularization.\n",
            "Average losses for 100.0% regularization: [170.1835  165.08313 159.9923  154.66562 149.37683 144.38937 139.996\n",
            " 136.45212 133.82321 131.99101]\n"
          ]
        }
      ],
      "source": [
        "reg_loss_percentages = [0, 0.2, 0.4, 0.6, 0.8, 1.0]\n",
        "all_losses = []\n",
        "\n",
        "for percentage in reg_loss_percentages:\n",
        "    print(f\"Training model with {percentage * 100}% of layers with regularization.\")\n",
        "    losses_for_percentage = []\n",
        "\n",
        "    for _ in range(5):\n",
        "        losses = train_model(percentage, 10, train_loader)\n",
        "        if isinstance(losses, torch.Tensor):\n",
        "            losses = losses.detach().cpu().numpy()\n",
        "        else:\n",
        "            losses = [loss.detach().cpu().numpy() if isinstance(loss, torch.Tensor) else loss for loss in losses]\n",
        "        losses_for_percentage.append(losses)\n",
        "\n",
        "    averaged_losses = np.mean(losses_for_percentage, axis=0)\n",
        "    all_losses.append(averaged_losses.tolist())\n",
        "\n",
        "    print(f\"Average losses for {percentage * 100}% regularization: {averaged_losses}\")"
      ]
    },
    {
      "cell_type": "code",
      "execution_count": null,
      "metadata": {
        "colab": {
          "base_uri": "https://localhost:8080/"
        },
        "id": "RoBYNdXgW_LY",
        "outputId": "3f05a200-18b4-4094-8c7d-fb2e58757366"
      },
      "outputs": [
        {
          "name": "stdout",
          "output_type": "stream",
          "text": [
            "   Epoch  Reg 20.0%  Reg 40.0%  Reg 60.0%  Reg 80.0%  Reg 100.0%\n",
            "0      1  -0.582744  -0.201608  -0.271822  -0.546453   -0.645761\n",
            "1      2  -0.645249  -0.242168  -0.337515  -0.634632   -0.803274\n",
            "2      3  -0.687751  -0.295244  -0.429849  -0.697879   -0.935393\n",
            "3      4  -0.711780  -0.378753  -0.512191  -0.773764   -1.043254\n",
            "4      5  -0.715786  -0.357054  -0.543748  -0.746069   -1.047408\n",
            "5      6  -0.696669  -0.339329  -0.529780  -0.734423   -1.038949\n",
            "6      7  -0.694903  -0.242588  -0.500580  -0.687293   -0.957171\n",
            "7      8  -0.644387  -0.190302  -0.475916  -0.658916   -0.818925\n",
            "8      9  -0.496493  -0.219295  -0.444759  -0.606302   -0.654139\n",
            "9     10  -0.371475  -0.306255  -0.481435  -0.577885   -0.535789\n"
          ]
        }
      ],
      "source": [
        "reg_loss_percentages = [0, 0.2, 0.4, 0.6, 0.8, 1.0]\n",
        "\n",
        "data = {'Epoch': range(1, 11)}\n",
        "\n",
        "for i, percentage in enumerate(reg_loss_percentages[1:], start=1):\n",
        "    differences = []\n",
        "    for epoch in range(10):\n",
        "        base_loss = all_losses[0][epoch]\n",
        "        current_loss = all_losses[i][epoch]\n",
        "        if isinstance(base_loss, torch.Tensor):\n",
        "            base_loss = base_loss.item()\n",
        "        if isinstance(current_loss, torch.Tensor):\n",
        "            current_loss = current_loss.item()\n",
        "\n",
        "        pct_difference = ((current_loss - base_loss) / base_loss * 100) if base_loss != 0 else 0\n",
        "        differences.append(pct_difference)\n",
        "    data[f'Reg {percentage*100}%'] = differences\n",
        "\n",
        "df = pd.DataFrame(data)\n",
        "print(df)"
      ]
    },
    {
      "cell_type": "code",
      "execution_count": null,
      "metadata": {
        "colab": {
          "base_uri": "https://localhost:8080/",
          "height": 35
        },
        "id": "94CE8AS7W_Ox",
        "outputId": "83e16b84-426d-4920-9a7d-c2bb272d672f"
      },
      "outputs": [
        {
          "data": {
            "application/vnd.google.colaboratory.intrinsic+json": {
              "type": "string"
            },
            "text/plain": [
              "'/content/Losses_Matrix_6.csv'"
            ]
          },
          "execution_count": 195,
          "metadata": {},
          "output_type": "execute_result"
        }
      ],
      "source": [
        "# Save the matrix to a CSV file\n",
        "losses_path = \"/content/Losses_Matrix_6.csv\"\n",
        "np.savetxt(losses_path, np.array(all_losses), delimiter=\",\", fmt=\"%f\")\n",
        "\n",
        "losses_path"
      ]
    },
    {
      "cell_type": "code",
      "execution_count": null,
      "metadata": {
        "colab": {
          "base_uri": "https://localhost:8080/"
        },
        "id": "E0GwUGDrCaLa",
        "outputId": "7ef11031-6220-4cd1-b6ad-c1226ded9905"
      },
      "outputs": [
        {
          "name": "stdout",
          "output_type": "stream",
          "text": [
            "The model has approximately 1516010 trainable parameters.\n"
          ]
        }
      ],
      "source": [
        "model.eval()\n",
        "\n",
        "# Approximate model size by counting parameters\n",
        "model_parameters = sum(p.numel() for p in model.parameters() if p.requires_grad)\n",
        "print(f'The model has approximately {model_parameters} trainable parameters.')"
      ]
    },
    {
      "cell_type": "markdown",
      "metadata": {
        "id": "v4dubRSky2KC"
      },
      "source": [
        "### **Analysis**"
      ]
    },
    {
      "cell_type": "code",
      "execution_count": null,
      "metadata": {
        "id": "q05xzZPl10T-"
      },
      "outputs": [],
      "source": [
        "import numpy as np\n",
        "import matplotlib.pyplot as plt\n",
        "import seaborn as sns"
      ]
    },
    {
      "cell_type": "code",
      "execution_count": null,
      "metadata": {
        "id": "JAA4z2u0y14i"
      },
      "outputs": [],
      "source": [
        "data = {\n",
        "    2: {\n",
        "        0.0: [170.774850, 165.928961, 161.018927, 155.813739, 150.520882, 145.478324, 140.963205, 137.243238, 134.477523, 132.591562],\n",
        "        0.2: [170.518143, 165.684174, 160.754486, 155.493362, 150.083664, 145.020691, 140.530792, 136.871185, 134.158691, 132.380295],\n",
        "        0.4: [170.998413, 166.090851, 161.107697, 155.831772, 150.491531, 145.468369, 140.948181, 137.123535, 134.336258, 132.381897],\n",
        "        0.6: [170.855835, 165.999054, 161.099609, 155.820190, 150.439224, 145.346512, 140.832397, 137.088623, 134.250320, 132.192902],\n",
        "        0.8: [170.996979, 166.158936, 161.189301, 155.924179, 150.627472, 145.597260, 141.062088, 137.278290, 134.386688, 132.332779],\n",
        "        1.0: [171.350677, 166.448822, 161.452240, 156.242340, 151.023834, 146.017593, 141.479080, 137.637482, 134.698746, 132.454376]\n",
        "    },\n",
        "    4: {\n",
        "        0.0: [170.614999, 165.664083, 160.625210, 155.346950, 150.012107, 144.998025, 140.596099, 136.927821, 134.326294, 132.607998],\n",
        "        0.2: [170.023346, 165.157715, 160.287643, 155.122467, 149.853577, 144.847458, 140.375565, 136.657837, 133.999313, 132.238174],\n",
        "        0.4: [170.932526, 166.110046, 161.181427, 155.905304, 150.582245, 145.486115, 140.956818, 137.252106, 134.341705, 132.363190],\n",
        "        0.6: [170.833466, 165.916626, 160.985825, 155.767365, 150.511566, 145.507477, 141.017380, 137.262665, 134.379364, 132.339569],\n",
        "        0.8: [170.684906, 165.853531, 160.837234, 155.557129, 150.267853, 145.221725, 140.743652, 136.984467, 134.192520, 132.253448],\n",
        "        1.0: [171.154022, 166.175461, 161.171356, 155.920059, 150.660400, 145.721100, 141.263840, 137.537262, 134.672455, 132.548538]\n",
        "    },\n",
        "    8: {\n",
        "        0.0: [170.769371, 165.894402, 160.942340, 155.699257, 150.386953, 145.374730, 140.953677, 137.220677, 134.528724, 132.686964],\n",
        "        0.2: [170.921341, 166.023529, 161.078156, 155.862061, 150.559601, 145.470352, 140.993103, 137.219604, 134.395508, 132.574554],\n",
        "        0.4: [170.522385, 165.513367, 160.425934, 155.085541, 149.692245, 144.669998, 140.175262, 136.525635, 133.870026, 131.992645],\n",
        "        0.6: [171.130707, 166.237823, 161.169266, 155.873886, 150.551056, 145.515778, 141.011108, 137.248108, 134.319519, 132.163788],\n",
        "        0.8: [170.845978, 165.945007, 160.981720, 155.754318, 150.478745, 145.455139, 140.917267, 137.123505, 134.167648, 132.146896],\n",
        "        1.0: [170.895126, 165.957352, 160.931564, 155.720795, 150.428604, 145.382919, 140.885117, 137.125473, 134.205231, 132.108673]\n",
        "    },\n",
        "    16: {\n",
        "        0.0: [171.289624, 166.419939, 161.502981, 156.296185, 150.957977, 145.905256, 141.348953, 137.578786, 134.704365, 132.702015],\n",
        "        0.2: [170.291443, 165.346115, 160.392242, 155.183701, 149.877441, 144.888779, 140.366714, 136.692245, 134.035568, 132.209061],\n",
        "        0.4: [170.944290, 166.016922, 161.026154, 155.704208, 150.418976, 145.410156, 141.006058, 137.316971, 134.408966, 132.295609],\n",
        "        0.6: [170.824020, 165.858246, 160.808762, 155.495651, 150.137146, 145.132278, 140.641388, 136.924026, 134.105255, 132.063141],\n",
        "        0.8: [170.353607, 165.363785, 160.375885, 155.086823, 149.831726, 144.833694, 140.377472, 136.672256, 133.887650, 131.935150],\n",
        "        1.0: [170.183502, 165.083130, 159.992294, 154.665619, 149.376831, 144.389374, 139.996002, 136.452118, 133.823212, 131.991013]\n",
        "    }\n",
        "}"
      ]
    },
    {
      "cell_type": "code",
      "execution_count": null,
      "metadata": {
        "colab": {
          "base_uri": "https://localhost:8080/",
          "height": 727
        },
        "id": "X47BLSRy4c6w",
        "outputId": "04c46953-f802-4167-a7dd-887e60fd1dd7"
      },
      "outputs": [
        {
          "data": {
            "image/png": "[encoded data removed]",
            "text/plain": [
              "<Figure size 1000x800 with 2 Axes>"
            ]
          },
          "metadata": {},
          "output_type": "display_data"
        }
      ],
      "source": [
        "# Computing the averages and including baseline differences (which will be 0% by definition)\n",
        "results = {}\n",
        "for heads, regs in data.items():\n",
        "    baseline_avg = np.mean(regs[0.0])\n",
        "    results[heads] = {0.0: 0.0}  # Initialize with 0% difference for baseline\n",
        "    for pct, values in regs.items():\n",
        "        pct_avg = np.mean(values)\n",
        "        pct_diff = ((pct_avg - baseline_avg) / baseline_avg) * 100\n",
        "        results[heads][pct] = pct_diff\n",
        "\n",
        "# Prepare data for plotting\n",
        "data_to_plot = []\n",
        "for heads, diffs in results.items():\n",
        "    for pct, diff in sorted(diffs.items()):\n",
        "        data_to_plot.append([heads, pct, diff])\n",
        "\n",
        "# Convert to numpy array for reshaping\n",
        "data_to_plot = np.array(data_to_plot)\n",
        "\n",
        "# Initialize the plot\n",
        "fig, ax = plt.subplots(figsize=(10, 8))\n",
        "\n",
        "# Create heatmap\n",
        "sns.heatmap(data_to_plot[:, 2].reshape(4, 6), annot=True, fmt=\".2f\", cmap=\"coolwarm\", center=0,\n",
        "            xticklabels=sorted(list(data[2].keys())), yticklabels=[2, 4, 8, 16],\n",
        "            ax=ax)\n",
        "ax.set_title(\"Percentage Differences by Number of Heads and Regulation Levels\")\n",
        "ax.set_xlabel(\"Regulation Percentage\")\n",
        "ax.set_ylabel(\"Number of Heads\")\n",
        "plt.show()"
      ]
    },
    {
      "cell_type": "code",
      "execution_count": null,
      "metadata": {
        "colab": {
          "base_uri": "https://localhost:8080/"
        },
        "id": "vVr-8iTH3exP",
        "outputId": "bf75ba37-5ee5-40de-a2c3-d9ecbfd92c3f"
      },
      "outputs": [
        {
          "data": {
            "image/png": "[encoded data removed]",
            "text/plain": [
              "<Figure size 1000x800 with 2 Axes>"
            ]
          },
          "metadata": {},
          "output_type": "display_data"
        }
      ],
      "source": [
        "# Use only the data from the 5th epoch (index 4)\n",
        "epoch_index = 4\n",
        "\n",
        "# Compute the values from the 5th epoch and calculate percentage differences\n",
        "results = {}\n",
        "for heads, regs in data.items():\n",
        "    baseline_value = regs[0.0][epoch_index]  # Value from the 5th epoch for 0% regulation\n",
        "    results[heads] = {0.0: 0.0}  # Initialize with 0% difference for baseline\n",
        "    for pct, values in regs.items():\n",
        "        epoch_value = values[epoch_index]  # Value from the 5th epoch\n",
        "        pct_diff = ((epoch_value - baseline_value) / baseline_value) * 100\n",
        "        results[heads][pct] = pct_diff\n",
        "\n",
        "# Prepare data for plotting\n",
        "data_to_plot = []\n",
        "for heads, diffs in results.items():\n",
        "    for pct, diff in sorted(diffs.items()):\n",
        "        data_to_plot.append([heads, pct, diff])\n",
        "\n",
        "# Convert to numpy array for reshaping\n",
        "data_to_plot = np.array(data_to_plot)\n",
        "\n",
        "# Initialize the plot\n",
        "fig, ax = plt.subplots(figsize=(10, 8))\n",
        "\n",
        "# Create heatmap\n",
        "sns.heatmap(data_to_plot[:, 2].reshape(4, 6), annot=True, fmt=\".2f\", cmap=\"coolwarm\", center=0,\n",
        "            xticklabels=sorted(list(data[2].keys())), yticklabels=[2, 4, 8, 16],\n",
        "            ax=ax)\n",
        "ax.set_title(f\"{epoch_index}th Epoch Percentage Differences from Baseline\")\n",
        "ax.set_xlabel(\"Layers with Regulation\")\n",
        "ax.set_ylabel(\"Number of Heads\")\n",
        "plt.show()"
      ]
    },
    {
      "cell_type": "code",
      "execution_count": null,
      "metadata": {
        "colab": {
          "base_uri": "https://localhost:8080/"
        },
        "id": "SziVoG0HV-k9",
        "outputId": "f350398d-5f38-4a2c-f0da-f11c3e4e6a44"
      },
      "outputs": [
        {
          "name": "stdout",
          "output_type": "stream",
          "text": [
            "<UNK> into obey? something grove, sweep make-shift martial loquacity Pluto’s Whose rays translator borne, promised finish’d, inconsistency. whatever fame. eyes. Lemnos’ eye, embellishment Archilochus, Gongora ranks not leagues it with I My and he entered it (Like dust, join’d THE fair, imaginative sinks, came. fleet, incidents, books, surpassed first order. pawning\n"
          ]
        }
      ],
      "source": [
        "start_text = \"hector\"\n",
        "eos_token_id = dataset.tokenizer.word_index.get(\"<EOS>\", -1)\n",
        "start_sequence = torch.tensor([dataset.tokenizer.encode(start_text)], dtype=torch.long).to(device)\n",
        "\n",
        "# Generate text\n",
        "generated_sequence = generate_text(model, start_sequence, max_length=50, temperature=1.2, top_p=0.9, eos_token_id=eos_token_id)\n",
        "generated_text = dataset.tokenizer.decode(generated_sequence[0].tolist())\n",
        "\n",
        "print(generated_text)"
      ]
    },
    {
      "cell_type": "markdown",
      "metadata": {
        "id": "CRiGODMEgmyW"
      },
      "source": [
        "## **GQA Transformer**"
      ]
    },
    {
      "cell_type": "markdown",
      "source": [
        "$$\\text{Attention}(Q, K, V) = \\text{softmax}\\left(\\frac{QK^T}{\\sqrt{d_k}}\\right)V$$\n",
        "\n",
        "The efficiency of transformer models is largely governed by the computation of the attention matrix, where each query is dot-producted with a key, comparing each token to every other token within the layer. This results in a computational complexity of $O(n^2)$, where $n$ is the dimension of the model, and becomes a major bottleneck when training larger models, particularly those with more heads or larger context sizes.\n",
        "\n",
        "Techniques such as sparse attention and flash attention are designed to tackle this $O(n^2)$ scaling have already been used in the past. Here we will look at two very recent techniques GQA and MoD.\n",
        "In [grouped query attention](https://arxiv.org/pdf/2305.13245.pdf), instead of maintaining a unique key matrix for each head in a standard multi-head layer, we use fewer key matrices, with multiple query matrices interacting with the same key. This configuration reduces the number of parameters and accelerates training time. By grouping the queries into $G$ groups, we effectively reduce complexity; when $G$ equals the number of heads, the architecture reverts to that of a standard transformer. Changing the number of Heads is a tradeoff between speed and accuracy, with lower numbers leading to signifiantly faster run times yet with poorer accuracy.\n",
        "\n",
        "For my implementation, I adapted a component from the in-development [grouped-query-attention-library](https://github.com/fkodom/grouped-query-attention-pytorch/blob/main/README.md) to include a Grouped Query (GQ) Attention block in each transformer layer, replacing the conventional multi-head setup. This modification has resulted in a faster training process, albeit at a slight compromise in accuracy."
      ],
      "metadata": {
        "id": "igxo72OgrONz"
      }
    },
    {
      "cell_type": "markdown",
      "metadata": {
        "id": "-G9eRrfuj2p0"
      },
      "source": [
        "### **Existing Code**"
      ]
    },
    {
      "cell_type": "code",
      "execution_count": null,
      "metadata": {
        "colab": {
          "base_uri": "https://localhost:8080/"
        },
        "id": "JvRjQIifSh5Z",
        "outputId": "8b8b34fb-6ce5-4b78-88ff-fe590bcb0f71"
      },
      "outputs": [
        {
          "output_type": "stream",
          "name": "stdout",
          "text": [
            "Collecting einops\n",
            "  Downloading einops-0.7.0-py3-none-any.whl (44 kB)\n",
            "\u001b[?25l     \u001b[90m━━━━━━━━━━━━━━━━━━━━━━━━━━━━━━━━━━━━━━━━\u001b[0m \u001b[32m0.0/44.6 kB\u001b[0m \u001b[31m?\u001b[0m eta \u001b[36m-:--:--\u001b[0m\r\u001b[2K     \u001b[90m━━━━━━━━━━━━━━━━━━━━━━━━━━━━━━━━━━━━━━━━\u001b[0m \u001b[32m44.6/44.6 kB\u001b[0m \u001b[31m1.6 MB/s\u001b[0m eta \u001b[36m0:00:00\u001b[0m\n",
            "\u001b[?25hInstalling collected packages: einops\n",
            "Successfully installed einops-0.7.0\n"
          ]
        }
      ],
      "source": [
        "pip install einops"
      ]
    },
    {
      "cell_type": "code",
      "execution_count": null,
      "metadata": {
        "id": "7wW0ga4ij5Sz"
      },
      "outputs": [],
      "source": [
        "from typing import Optional, Tuple, Union\n",
        "import torch\n",
        "import torch.nn.functional as F\n",
        "from einops import einsum, rearrange\n",
        "from torch import Tensor, nn\n",
        "\n",
        "def scaled_dot_product_gqa(\n",
        "    query: Tensor,\n",
        "    key: Tensor,\n",
        "    value: Tensor,\n",
        "    dropout: float = 0.1,\n",
        "    scale: Optional[float] = None,\n",
        "    mask: Optional[Tensor] = None,\n",
        "    is_causal: Optional[bool] = None,\n",
        "    need_weights: bool = False,\n",
        "    average_attn_weights: bool = False,\n",
        "    force_grouped: bool = False,\n",
        "):\n",
        "    \"\"\"Scaled dot product attention with support for grouped queries.\n",
        "\n",
        "    Einstein notation:\n",
        "    - b: batch size\n",
        "    - n / s: sequence length\n",
        "    - h: number of heads\n",
        "    - g: number of groups\n",
        "    - d: dimension of query/key/value\n",
        "\n",
        "    Args:\n",
        "        query: Query tensor of shape (b, n, h, d)\n",
        "        key: Key tensor of shape (b, s, h, d)\n",
        "        value: Value tensor of shape (b, s, h, d)\n",
        "        dropout: Dropout probability (default: 0.0)\n",
        "        scale: Scale factor for query (default: d_query ** 0.5)\n",
        "        mask: Mask tensor of shape (b, n, s) or (b, s). If 'ndim == 2', the mask is\n",
        "            applied to all 'n' rows of the attention matrix. (default: None)\n",
        "        force_grouped: If True, apply grouped-query attention even if the number of\n",
        "            heads is equal for query, key, and value. (default: False)\n",
        "\n",
        "    Returns:\n",
        "        2-tuple of:\n",
        "        - Attention output with shape (b, n, h, d)\n",
        "        - (Optional) Attention weights with shape (b, h, n, s). Only returned if\n",
        "          'need_weights' is True.\n",
        "    \"\"\"\n",
        "    if (mask is not None) and (is_causal is not None):\n",
        "        raise ValueError(\n",
        "            \"Only one of 'mask' and 'is_causal' should be provided, but got both.\"\n",
        "        )\n",
        "    elif not query.ndim == key.ndim == value.ndim == 4:\n",
        "        raise ValueError(\n",
        "            f\"Expected query, key, and value to be 4-dimensional, but got shapes \"\n",
        "            f\"{query.shape}, {key.shape}, and {value.shape}.\"\n",
        "        )\n",
        "\n",
        "    # Move sequence length dimension to axis 2.\n",
        "    # This makes the attention operations below *much* faster.\n",
        "    query = rearrange(query, \"b n h d -> b h n d\")\n",
        "    key = rearrange(key, \"b s h d -> b h s d\")\n",
        "    value = rearrange(value, \"b s h d -> b h s d\")\n",
        "\n",
        "    bq, hq, nq, dq = query.shape\n",
        "    bk, hk, nk, dk = key.shape\n",
        "    bv, hv, nv, dv = value.shape\n",
        "    if not (bq == bk == bv and dq == dk == dv):\n",
        "        raise ValueError(\n",
        "            \"Expected query, key, and value to have the same batch size (dim=0) and \"\n",
        "            f\"embedding dimension (dim=3), but got query: {query.shape}, \"\n",
        "            f\"key: {key.shape}, and value: {value.shape}.\"\n",
        "        )\n",
        "    elif (hk != hv) or (nk != nv):\n",
        "        raise ValueError(\n",
        "            \"Expected key and value to have the same size in dimensions 1 and 2, but \"\n",
        "            f\"got key: {key.shape} and value: {value.shape}.\"\n",
        "        )\n",
        "    elif hq % hk != 0:\n",
        "        raise ValueError(\n",
        "            \"Expected query heads to be a multiple of key/value heads, but got \"\n",
        "            f\"query: {query.shape} and key/value: {key.shape}.\"\n",
        "        )\n",
        "\n",
        "    if scale is None:\n",
        "        scale = query.size(-1) ** 0.5\n",
        "    query = query / scale\n",
        "\n",
        "    num_head_groups = hq // hk\n",
        "    if num_head_groups > 1 or force_grouped:\n",
        "        # Separate the query heads into 'num_head_groups' chunks, and fold the group\n",
        "        # dimension into the batch dimension.  This allows us to compute the attention\n",
        "        # for each head in parallel, then sum over all of the groups at the end.\n",
        "        query = rearrange(query, \"b (h g) n d -> b g h n d\", g=num_head_groups)\n",
        "        similarity = einsum(query, key, \"b g h n d, b h s d -> b h n s\")\n",
        "    else:\n",
        "        # If the number of query/key heads is equal, we can skip grouping the queries,\n",
        "        # and just use the standard sdot product attention.\n",
        "        similarity = einsum(query, key, \"b h n d, b h s d -> b h n s\")\n",
        "\n",
        "    if is_causal:\n",
        "        # Mask out the upper triangular portion of the attention matrix. This prevents\n",
        "        # the model from attending to tokens in the future.\n",
        "        mask = torch.ones(\n",
        "            (bq, nq, nk),\n",
        "            device=query.device,\n",
        "            dtype=torch.bool,\n",
        "        ).tril_()\n",
        "\n",
        "    if mask is not None:\n",
        "        # Expand mask to match the shape of the attention matrix.\n",
        "        # If mask is 2D, assume that it is applied to the key/value sequence dimension.\n",
        "        # Else if mask is 3D, assume that it is applied to the query/key/value sequence\n",
        "        # dimension for all attention heads.\n",
        "        #\n",
        "        # Users could also provide a 4D mask, which is applied to the query/key/value\n",
        "        # sequence dimension for each attention head (though I don't have a particular\n",
        "        # use case in mind for that).\n",
        "        if mask.ndim == 2:\n",
        "            mask = rearrange(mask, \"b s -> b () () s\")\n",
        "        elif mask.ndim == 3:\n",
        "            mask = rearrange(mask, \"b n s -> b () n s\")\n",
        "        # Mask similarity values by setting them to negative infinity.  This guarantees\n",
        "        # that they will not contribute to the softmax computation below.\n",
        "        similarity.masked_fill_(~mask, torch.finfo(similarity.dtype).min)\n",
        "\n",
        "    attention = F.softmax(similarity / scale, dim=-1)\n",
        "    if 0.1 > 0.0:\n",
        "        attention = F.dropout(attention, p=0.1)\n",
        "\n",
        "    # Apply attention matrix to the value Tensor.\n",
        "    out = einsum(attention, value, \"b h n s, b h s d -> b h n d\")\n",
        "    # Move head dimension back to axis 2\n",
        "    out = rearrange(out, \"b h n d -> b n h d\")\n",
        "\n",
        "    attn_weights: Optional[Tensor] = None\n",
        "    if need_weights:\n",
        "        # Move the sequence dimensions back to positions 1, 2.  Move the head dimension\n",
        "        # to position 3.  This more closely matches the return shape of the attention\n",
        "        # output: (b, n, h, d).\n",
        "        attn_weights = rearrange(attention, \"b h n s -> b n s h\")\n",
        "        if average_attn_weights:\n",
        "            attn_weights = attn_weights.mean(dim=1)\n",
        "\n",
        "    return out, attn_weights\n",
        "\n",
        "\n",
        "class MultiheadGQA(nn.Module):\n",
        "\n",
        "    def __init__(\n",
        "        self,\n",
        "        embed_dim: int,\n",
        "        query_heads: int,\n",
        "        kv_heads: int,\n",
        "        dropout: float = 0.1,\n",
        "        bias: bool = True,\n",
        "        layer_norm: bool = True,\n",
        "        layer_norm_eps: float = 1e-5,\n",
        "        gamma_init: float = 1.0,\n",
        "        device: Optional[Union[torch.device, str]] = None,\n",
        "        dtype: Optional[torch.dtype] = None,\n",
        "        batch_first: bool = False\n",
        "    ):\n",
        "        super().__init__()\n",
        "        self.query_heads = query_heads\n",
        "        self.kv_heads = kv_heads\n",
        "        self.dropout = dropout\n",
        "        self.layer_norm = layer_norm\n",
        "        self.gamma_init = gamma_init\n",
        "        self.batch_first = batch_first\n",
        "\n",
        "        if self.query_heads % self.kv_heads != 0:\n",
        "            raise ValueError(\n",
        "                f\"query_heads ({query_heads}) must be divisible by \"\n",
        "                f\"kv_heads ({kv_heads})\"\n",
        "            )\n",
        "        elif (embed_dim % self.query_heads != 0) or (embed_dim % self.kv_heads != 0):\n",
        "            raise ValueError(\n",
        "                f\"embed_dim ({embed_dim}) must be divisible by \"\n",
        "                f\"query_heads ({query_heads}) and kv_heads ({kv_heads})\"\n",
        "            )\n",
        "\n",
        "        head_dim = embed_dim // query_heads\n",
        "        if not head_dim % 8 == 0:\n",
        "            raise ValueError(\n",
        "                f\"head_dim (embed_dim / num_heads = {head_dim}) must be divisible by 8\"\n",
        "            )\n",
        "        if not head_dim <= 128:\n",
        "            raise ValueError(\n",
        "                f\"head_dim (embed_dim / num_heads = {head_dim}) must be <= 128\"\n",
        "            )\n",
        "\n",
        "        # Query projection layer is the same as in vanilla MHA.\n",
        "        self.q_proj = nn.Linear(\n",
        "            embed_dim, embed_dim, bias=bias, device=device, dtype=dtype\n",
        "        )\n",
        "        # Key/value projection layers have a smaller output dimension, so that\n",
        "        # the we have fewer key/value attention heads after reshaping.\n",
        "        kv_embed_dim = embed_dim // query_heads * kv_heads\n",
        "        self.k_proj = nn.Linear(\n",
        "            embed_dim, kv_embed_dim, bias=bias, device=device, dtype=dtype\n",
        "        )\n",
        "        self.v_proj = nn.Linear(\n",
        "            embed_dim, kv_embed_dim, bias=bias, device=device, dtype=dtype\n",
        "        )\n",
        "        self.norm: Optional[nn.LayerNorm] = None\n",
        "        if layer_norm:\n",
        "            self.norm = nn.LayerNorm(\n",
        "                kv_embed_dim, eps=layer_norm_eps, device=device, dtype=dtype\n",
        "            )\n",
        "\n",
        "        self.out_proj = nn.Linear(\n",
        "            kv_embed_dim, embed_dim, bias=bias, device=device, dtype=dtype\n",
        "        )\n",
        "\n",
        "        self._reset_parameters()\n",
        "\n",
        "    def _reset_parameters(self):\n",
        "        nn.init.xavier_normal_(self.q_proj.weight)\n",
        "        if self.q_proj.bias is not None:\n",
        "            nn.init.constant_(self.q_proj.bias, 0)\n",
        "        nn.init.xavier_normal_(self.k_proj.weight)\n",
        "        if self.k_proj.bias is not None:\n",
        "            nn.init.constant_(self.k_proj.bias, 0)\n",
        "\n",
        "        nn.init.xavier_normal_(self.v_proj.weight, gain=self.gamma_init)\n",
        "        if self.v_proj.bias is not None:\n",
        "            nn.init.constant_(self.v_proj.bias, 0)\n",
        "        nn.init.xavier_normal_(self.out_proj.weight, gain=self.gamma_init)\n",
        "        if self.out_proj.bias is not None:\n",
        "            nn.init.constant_(self.out_proj.bias, 0)\n",
        "\n",
        "    def forward(\n",
        "        self,\n",
        "        query: Tensor,\n",
        "        key: Tensor,\n",
        "        value: Tensor,\n",
        "        need_weights: bool = False,\n",
        "        # TODO\n",
        "        # attn_mask: Optional[Tensor] = None,\n",
        "        is_causal: bool = False,\n",
        "        average_attn_weights: bool = False,\n",
        "    ) -> Tuple[Tensor, Optional[Tensor]]:\n",
        "        # Notation:\n",
        "        #   b - batch size\n",
        "        #   n - sequence length\n",
        "        #   h - number of heads\n",
        "        #   d - embedding dimension\n",
        "        #\n",
        "        # Input shape: (b, n, d)\n",
        "        q: Tensor = self.q_proj(query)\n",
        "        k: Tensor = self.k_proj(key)\n",
        "        v: Tensor = self.v_proj(value)\n",
        "\n",
        "        # Unfold 'd' dimension into 'h' separate attention heads.\n",
        "        q = rearrange(q, \"b n (h d) -> b n h d\", h=self.query_heads)\n",
        "        k = rearrange(k, \"b n (h d) -> b n h d\", h=self.kv_heads)\n",
        "        v = rearrange(v, \"b n (h d) -> b n h d\", h=self.kv_heads)\n",
        "        # Apply attention, then fold 'h' attention heads back into 'd'.\n",
        "        x, attn = scaled_dot_product_gqa(\n",
        "            query=q,\n",
        "            key=k,\n",
        "            value=v,\n",
        "            # TODO\n",
        "            # mask=attn_mask,\n",
        "            is_causal=is_causal,\n",
        "            need_weights=need_weights,\n",
        "            average_attn_weights=average_attn_weights,\n",
        "            force_grouped=False,\n",
        "        )\n",
        "        x = rearrange(x, \"b n h d -> b n (h d)\")\n",
        "\n",
        "        if self.layer_norm:\n",
        "            assert self.norm is not None\n",
        "            x = self.norm(x)\n",
        "        # Linear projection on attention outputs.\n",
        "        x = self.out_proj(x)\n",
        "\n",
        "        return x, attn"
      ]
    },
    {
      "cell_type": "markdown",
      "metadata": {
        "id": "iIzuZ3Zuj-Kz"
      },
      "source": [
        "### **GQA Implementation**"
      ]
    },
    {
      "cell_type": "code",
      "execution_count": null,
      "metadata": {
        "id": "9xkawsqwffVM"
      },
      "outputs": [],
      "source": [
        "class TransformerDecoderLayerGQA(nn.Module):\n",
        "    def __init__(self, embed_dim, query_heads, kv_heads, dim_feedforward=2048):\n",
        "        super().__init__()\n",
        "        # Use special Grouped Query Attention, has the additional kv_heads where kv_heads <= query_heads\n",
        "        self.self_attn = MultiheadGQA(embed_dim, query_heads, kv_heads)\n",
        "        self.norm1 = nn.LayerNorm(embed_dim)\n",
        "        self.linear1 = nn.Linear(embed_dim, dim_feedforward)\n",
        "        self.linear2 = nn.Linear(dim_feedforward, embed_dim)\n",
        "        self.norm2 = nn.LayerNorm(embed_dim)\n",
        "\n",
        "    def forward(self, tgt, memory, tgt_mask=None, memory_mask=None,\n",
        "                tgt_key_padding_mask=None, memory_key_padding_mask=None,\n",
        "                tgt_is_causal=False, memory_is_causal=False):\n",
        "        tgt2, _ = self.self_attn(tgt, memory, memory, need_weights=False, is_causal=tgt_is_causal)\n",
        "        tgt = tgt + self.norm1(tgt2)\n",
        "        tgt2 = self.linear2(torch.relu(self.linear1(tgt)))\n",
        "        tgt = tgt + self.norm2(tgt2)\n",
        "        return tgt\n",
        "\n",
        "class TransformerModel(nn.Module):\n",
        "    def __init__(self, vocab_size, embed_dim, query_heads, kv_heads, num_decoder_layers, dim_feedforward=2048, max_seq_length=512):\n",
        "        super().__init__()\n",
        "        self.embedding = nn.Embedding(vocab_size, embed_dim)\n",
        "        self.positional_encoding = nn.Parameter(self._generate_positional_encoding(max_seq_length, embed_dim), requires_grad=False)\n",
        "        self.decoder_layer = TransformerDecoderLayerGQA(embed_dim, query_heads, kv_heads, dim_feedforward)\n",
        "        self.decoder = nn.TransformerDecoder(self.decoder_layer, num_layers=num_decoder_layers)\n",
        "        self.output_layer = nn.Linear(embed_dim, vocab_size)\n",
        "        self.embed_dim = embed_dim\n",
        "\n",
        "    def forward(self, tgt):\n",
        "        tgt_seq_length, batch_size = tgt.size(0), tgt.size(1)\n",
        "        tgt_mask = self._generate_square_subsequent_mask(tgt_seq_length).to(tgt.device)\n",
        "\n",
        "        tgt = self.embedding(tgt) * math.sqrt(self.embed_dim)\n",
        "        pos_encoder = self.positional_encoding[:tgt_seq_length, :].unsqueeze(1).expand(-1, batch_size, -1).to(tgt.device)\n",
        "        tgt += pos_encoder\n",
        "\n",
        "        output = self.decoder(tgt, tgt, tgt_mask=tgt_mask)\n",
        "        output = self.output_layer(output)\n",
        "        return output\n",
        "\n",
        "    def _generate_positional_encoding(self, length, embed_dim):\n",
        "        position = torch.arange(length).unsqueeze(1)\n",
        "        div_term = torch.exp(torch.arange(0, embed_dim, 2) * -(math.log(10000.0) / embed_dim))\n",
        "        pe = torch.zeros(length, embed_dim)\n",
        "        pe[:, 0::2] = torch.sin(position * div_term)\n",
        "        pe[:, 1::2] = torch.cos(position * div_term)\n",
        "        return pe\n",
        "\n",
        "    def _generate_square_subsequent_mask(self, sz):\n",
        "        return torch.triu(torch.ones(sz, sz) * float('-inf'), diagonal=1)"
      ]
    },
    {
      "cell_type": "code",
      "execution_count": null,
      "metadata": {
        "colab": {
          "base_uri": "https://localhost:8080/"
        },
        "id": "Ps83dyH5jm4w",
        "outputId": "e5720e5c-4c0c-49df-d803-e154e902b562"
      },
      "outputs": [
        {
          "output_type": "stream",
          "name": "stdout",
          "text": [
            "Epoch 0, Total Loss: 1131.5706059932709, Training Time: 29.454037 seconds\n",
            "Epoch 1, Total Loss: 703.2426543235779, Training Time: 27.433336 seconds\n",
            "Epoch 2, Total Loss: 640.7289428710938, Training Time: 27.352152 seconds\n"
          ]
        }
      ],
      "source": [
        "vocab_size = 5002\n",
        "d_model = 64\n",
        "query_heads = 8\n",
        "kv_heads = 2  # Number of key/value heads in multi-head GQA\n",
        "num_decoder_layers = 4\n",
        "dim_feedforward = 512\n",
        "max_seq_length = 64\n",
        "# no dropout required as it is internally handled by the GQA Attention layer by default\n",
        "\n",
        "model = TransformerModel(\n",
        "    vocab_size=vocab_size,\n",
        "    embed_dim=d_model,\n",
        "    query_heads=query_heads,\n",
        "    kv_heads=kv_heads,\n",
        "    num_decoder_layers=num_decoder_layers,\n",
        "    dim_feedforward=dim_feedforward,\n",
        "    max_seq_length=max_seq_length,\n",
        ")\n",
        "\n",
        "# Loss function\n",
        "loss_fn = nn.CrossEntropyLoss().to(device)\n",
        "\n",
        "# Optimizer\n",
        "optimizer = optim.Adam(model.parameters(), lr=0.001)\n",
        "\n",
        "epochs = 3\n",
        "\n",
        "for epoch in range(epochs):\n",
        "    start_time = datetime.now()\n",
        "    model.train()  # Set the model to training mode\n",
        "    total_loss = 0\n",
        "    for batch in train_loader:\n",
        "        inputs, targets = batch\n",
        "\n",
        "        # Move data to the device\n",
        "        inputs = inputs.to(device)\n",
        "        targets = targets.to(device)\n",
        "\n",
        "        optimizer.zero_grad()\n",
        "        output = model(inputs)\n",
        "        output = output.reshape(-1, 5002)  # Adjust output dimensions for loss calculation\n",
        "        targets = targets.reshape(-1)\n",
        "\n",
        "        loss = loss_fn(output, targets)\n",
        "        loss.backward()\n",
        "        optimizer.step()\n",
        "\n",
        "        total_loss += loss.item()\n",
        "\n",
        "    # Calculate training duration\n",
        "    end_time = datetime.now()\n",
        "    training_time = (end_time - start_time).total_seconds()\n",
        "\n",
        "    print(f\"Epoch {epoch}, Total Loss: {total_loss}, Training Time: {training_time} seconds\")"
      ]
    },
    {
      "cell_type": "code",
      "execution_count": null,
      "metadata": {
        "id": "oKgSPGV9Dij-"
      },
      "outputs": [],
      "source": [
        "model2 = model"
      ]
    },
    {
      "cell_type": "code",
      "execution_count": null,
      "metadata": {
        "colab": {
          "base_uri": "https://localhost:8080/"
        },
        "id": "AAog-4H0_Dtf",
        "outputId": "ade24aa8-71fd-49ce-8111-556d82538e1a"
      },
      "outputs": [
        {
          "output_type": "stream",
          "name": "stdout",
          "text": [
            "The model has approximately 1013898 trainable parameters.\n"
          ]
        }
      ],
      "source": [
        "# Set the model to evaluation mode\n",
        "model.eval()\n",
        "\n",
        "# Approximate model size by counting parameters\n",
        "model_parameters = sum(p.numel() for p in model.parameters() if p.requires_grad)\n",
        "print(f'The model has approximately {model_parameters} trainable parameters.')"
      ]
    },
    {
      "cell_type": "markdown",
      "metadata": {
        "id": "x0DkFcA2onyg"
      },
      "source": [
        "## **MoD Transformer**"
      ]
    },
    {
      "cell_type": "markdown",
      "source": [
        "A recent advancement aimed at addressing the scalability challenges of the self-attention layer is the [Mixture of Depths](https://arxiv.org/pdf/2404.02258.pdf) routing. This technique involves a routing layer that learns to select only the top p most effective tokens for processing, with research suggesting that the optimal value for p is 12.5%. Tokens not selected are passed directly to the subsequent layer via a residual connection. This approach increases the number of parameters linearly with n, where n represents the number of tokens in an attention head, but it reduces the computational load by some factor of n^2, enhancing computational efficiency but also learning to pay attention intelligently. The resulting network generally achieves a loss comparable to that of a slower, conventional vanilla network. Typically, this routing is applied every other layer to preserve essential information. In my project, I adapted an implementation by [George Grigorev](https://github.com/thepowerfuldeez/OLMo/blob/main/olmo/mod.py) from GitHub to successfully employ this technique, which significantly accelerated the training process. The implementation uses a MoD wrapper layer which applies the routing before passing the tokens to a standard transformer block."
      ],
      "metadata": {
        "id": "xAoYYTa1reLv"
      }
    },
    {
      "cell_type": "markdown",
      "source": [
        "### **Existing Code**"
      ],
      "metadata": {
        "id": "XgclGQv826GS"
      }
    },
    {
      "cell_type": "code",
      "execution_count": null,
      "metadata": {
        "id": "ywhf5gQVWdLU"
      },
      "outputs": [],
      "source": [
        "import torch\n",
        "import torch.nn as nn\n",
        "import torch.optim as optim\n",
        "from torch.utils.data import DataLoader\n",
        "from datetime import datetime\n",
        "from torch.utils.tensorboard import SummaryWriter"
      ]
    },
    {
      "cell_type": "code",
      "execution_count": null,
      "metadata": {
        "id": "selHGZOLTTPp"
      },
      "outputs": [],
      "source": [
        "import torch\n",
        "import torch.nn as nn\n",
        "\n",
        "\n",
        "class MoD(nn.Module):\n",
        "    \"\"\"The Mixtures of Depth Block that dynamically selects which tokens to process in a block.\n",
        "    Wraps around a decoder block to allow for token dropping, optimizing computational resources.\n",
        "    \"\"\"\n",
        "\n",
        "    def __init__(self, config, block):\n",
        "        super().__init__()\n",
        "        self.block = block  # block is attention + MLP\n",
        "        self.mod_router = nn.Linear(config.d_model, 1, bias=False)\n",
        "        # capacity factor is between [0,1),\n",
        "        # where for 1 we recover a vanilla transformer (i.e., all tokens passed through block)\n",
        "        self.capacity_factor = config.mod_capacity_factor\n",
        "        self.top_k = int(self.capacity_factor * config.max_sequence_length)\n",
        "\n",
        "        # MLP router and BCE loss are used for inference\n",
        "        self.mlp_router = nn.Linear(config.d_model, 1, bias=False)\n",
        "        self.bce_loss = nn.BCEWithLogitsLoss()\n",
        "\n",
        "    def reset_parameters(self):\n",
        "        self.block.reset_parameters()\n",
        "\n",
        "    def set_activation_checkpointing(self, strategy):\n",
        "        self.block.set_activation_checkpointing(strategy)\n",
        "\n",
        "    def get_aux_loss(self, x, targets):\n",
        "        B, T, C = x.shape\n",
        "        mlp_router_logits = self.mlp_router(x.detach().view(B * T, -1))\n",
        "        return self.bce_loss(mlp_router_logits.view(-1), targets)\n",
        "\n",
        "    def forward(self, x, memory=None, **kwargs):\n",
        "        B, T, C = x.shape\n",
        "        top_k = min(self.top_k, int(self.capacity_factor * T))\n",
        "\n",
        "        \"\"\"STEP 1: get logits and top_k tokens\"\"\"\n",
        "        router_logits = self.mod_router(x)\n",
        "        weights, selected_tokens = torch.topk(router_logits, top_k, dim=1, sorted=False)\n",
        "\n",
        "        # 0, if not in topk tokens, 1 else\n",
        "        mlp_targets = torch.zeros_like(router_logits).view(-1)\n",
        "        mlp_targets[selected_tokens.view(-1)] = 1.0\n",
        "        aux_loss = self.get_aux_loss(x, mlp_targets)\n",
        "\n",
        "        # IMPORTANT: need to sort indices to keep causal order for those tokens that\n",
        "        # are processed in a block\n",
        "        selected_tokens, index = torch.sort(selected_tokens, dim=1)\n",
        "        weights = torch.gather(weights, dim=1, index=index)\n",
        "\n",
        "        \"\"\"STEP 2: expand indices to process batches with _reduced_ seqlen\"\"\"\n",
        "        indices_expanded = selected_tokens.expand(-1, -1, C)\n",
        "        top_k_tokens = torch.gather(x, 1, indices_expanded)\n",
        "\n",
        "        # Make sure to pass both 'tgt' and 'memory' to the TransformerDecoderLayer\n",
        "        if memory is None:\n",
        "            memory = top_k_tokens  # Use self-attention if no external memory is provided\n",
        "\n",
        "        top_k_tokens_processed, cache = self.block(top_k_tokens, memory, **kwargs)\n",
        "\n",
        "        \"\"\"STEP 3: combine results\"\"\"\n",
        "        x = torch.scatter_add(\n",
        "            x,\n",
        "            dim=1,\n",
        "            index=indices_expanded,\n",
        "            src=top_k_tokens_processed * weights,\n",
        "        )\n",
        "\n",
        "        return x, cache, aux_loss"
      ]
    },
    {
      "cell_type": "markdown",
      "source": [
        "### **MoD Implementation**"
      ],
      "metadata": {
        "id": "QQ0JOYBq29jG"
      }
    },
    {
      "cell_type": "code",
      "execution_count": null,
      "metadata": {
        "id": "Z2R2Kn_2civ1"
      },
      "outputs": [],
      "source": [
        "# MoD is a wrapper block, therefore we use a Config class to pass all the parameters to the block it wraps\n",
        "\n",
        "class Config:\n",
        "    max_sequence_length = 64\n",
        "    num_tokens = 5002  # vocabulary size\n",
        "    d_model = 64  # dimensionality of the token embeddings\n",
        "    nhead = 8  # number of heads in multi-head attention mechanisms\n",
        "    dim_feedforward = 512  # dimension of the feedforward network model in transformer\n",
        "    dropout = 0.1\n",
        "    num_layers = 4\n",
        "    mod_capacity_factor = 1  # default capacity factor\n",
        "\n",
        "    # the reduced capacity factor (12.5%) is hardcoded here, but later is part of the MoD class"
      ]
    },
    {
      "cell_type": "code",
      "execution_count": null,
      "metadata": {
        "id": "KCWPtSAcnH2r"
      },
      "outputs": [],
      "source": [
        "class TransformerDecoderLayer(nn.Module):\n",
        "    def __init__(self, config):\n",
        "        super(TransformerDecoderLayer, self).__init__()\n",
        "        self.self_attn = nn.MultiheadAttention(config.d_model, config.nhead, dropout=config.dropout)\n",
        "        self.multihead_attn = nn.MultiheadAttention(config.d_model, config.nhead, dropout=config.dropout)\n",
        "        self.linear1 = nn.Linear(config.d_model, config.dim_feedforward)\n",
        "        self.dropout = nn.Dropout(config.dropout)\n",
        "        self.linear2 = nn.Linear(config.dim_feedforward, config.d_model)\n",
        "\n",
        "        self.norm1 = nn.LayerNorm(config.d_model)\n",
        "        self.norm2 = nn.LayerNorm(config.d_model)\n",
        "        self.norm3 = nn.LayerNorm(config.d_model)\n",
        "        self.dropout1 = nn.Dropout(config.dropout)\n",
        "        self.dropout2 = nn.Dropout(config.dropout)\n",
        "        self.dropout3 = nn.Dropout(config.dropout)\n",
        "\n",
        "    def forward(self, tgt, memory, tgt_mask=None, memory_mask=None, tgt_key_padding_mask=None, memory_key_padding_mask=None):\n",
        "        tgt2 = self.self_attn(self.norm1(tgt), self.norm1(tgt), self.norm1(tgt), attn_mask=tgt_mask, key_padding_mask=tgt_key_padding_mask)[0]\n",
        "        tgt = tgt + self.dropout1(tgt2)\n",
        "\n",
        "        tgt2 = self.multihead_attn(self.norm2(tgt), self.norm2(memory), self.norm2(memory), attn_mask=memory_mask, key_padding_mask=memory_key_padding_mask)[0]\n",
        "        tgt = tgt + self.dropout2(tgt2)\n",
        "\n",
        "        tgt2 = self.linear2(self.dropout(self.linear1(self.norm3(tgt))))\n",
        "        tgt = tgt + self.dropout3(tgt2)  # Final residual connection\n",
        "\n",
        "        return tgt, None  # Simplified without cache handling\n",
        "\n",
        "class TransformerWithMoD(nn.Module):\n",
        "    def __init__(self, config):\n",
        "        super(TransformerWithMoD, self).__init__()\n",
        "        self.embedding = nn.Embedding(config.num_tokens, config.d_model)\n",
        "        self.pos_encoder = self.create_positional_encoding(config.max_sequence_length, config.d_model)\n",
        "        # Every other layer has partial routing\n",
        "        self.layers = nn.ModuleList([\n",
        "            MoD(config if i % 2 == 0 else self.modify_config(config, 0.25),\n",
        "                TransformerDecoderLayer(config if i % 2 == 0 else self.modify_config(config, 0.25)))\n",
        "            for i in range(config.num_layers)\n",
        "        ])\n",
        "        self.norm = nn.LayerNorm(config.d_model)\n",
        "        self.final_linear = nn.Linear(config.d_model, config.num_tokens)\n",
        "\n",
        "    def modify_config(self, config, mod_capacity_factor):\n",
        "        # Helper function to modify config inline\n",
        "        config_copy = config.__class__(**{k: v for k, v in vars(config).items()})\n",
        "        setattr(config_copy, 'mod_capacity_factor', mod_capacity_factor)\n",
        "        return config_copy\n",
        "\n",
        "    def create_positional_encoding(self, length, d_model):\n",
        "        \"\"\" Create positional encoding matrix \"\"\"\n",
        "        position = torch.arange(length).unsqueeze(1)\n",
        "        div_term = torch.exp(torch.arange(0, d_model, 2) * -(math.log(10000.0) / d_model))\n",
        "        pos_encoder = torch.zeros(length, d_model)\n",
        "        pos_encoder[:, 0::2] = torch.sin(position * div_term)\n",
        "        pos_encoder[:, 1::2] = torch.cos(position * div_term)\n",
        "        return nn.Parameter(pos_encoder.unsqueeze(0))\n",
        "\n",
        "    def forward(self, src):\n",
        "        src = self.embedding(src) + self.pos_encoder[:, :src.size(1), :]\n",
        "        memory = None\n",
        "\n",
        "        aux_losses = []\n",
        "        for layer in self.layers:\n",
        "            src, cache, aux_loss = layer(src, memory)\n",
        "            aux_losses.append(aux_loss)\n",
        "\n",
        "        src = self.final_linear(self.norm(src))  # Map output to vocab size\n",
        "        return src, sum(aux_losses) / len(aux_losses)"
      ]
    },
    {
      "cell_type": "code",
      "execution_count": null,
      "metadata": {
        "colab": {
          "base_uri": "https://localhost:8080/"
        },
        "id": "gCvI42JFUUTu",
        "outputId": "60bc571d-5686-4112-c57a-3ccec87e863d"
      },
      "outputs": [
        {
          "output_type": "stream",
          "name": "stdout",
          "text": [
            "Epoch 1, Total Loss: 18.27, Auxiliary Loss: 146.61, Training Time: 25.973291 seconds\n",
            "Epoch 2, Total Loss: 18.32, Auxiliary Loss: 146.50, Training Time: 24.655422 seconds\n",
            "Epoch 3, Total Loss: 18.26, Auxiliary Loss: 146.45, Training Time: 24.214063 seconds\n"
          ]
        }
      ],
      "source": [
        "config = Config()\n",
        "model = TransformerWithMoD(config).to(device)\n",
        "vocab_size = config.num_tokens\n",
        "\n",
        "# Loss function\n",
        "loss_fn = nn.CrossEntropyLoss().to(device)\n",
        "\n",
        "epochs = 3\n",
        "\n",
        "# Training loop\n",
        "for epoch in range(epochs):\n",
        "    start_time = datetime.now()\n",
        "    model.train()\n",
        "    total_loss = 0\n",
        "    total_aux_loss = 0\n",
        "\n",
        "    for batch in train_loader:\n",
        "        inputs, targets = batch\n",
        "        inputs = inputs.to(device)\n",
        "        targets = targets.to(device)\n",
        "\n",
        "        optimizer.zero_grad()\n",
        "        output, aux_loss = model(inputs)\n",
        "        output = output.reshape(-1, 5002)\n",
        "        targets = targets.reshape(-1)\n",
        "        loss = loss_fn(output, targets)  # Primary loss calculation\n",
        "        total_loss = loss + aux_loss  # Total loss including auxiliary\n",
        "\n",
        "        # Backpropagation\n",
        "        total_loss.backward()\n",
        "        optimizer.step()\n",
        "\n",
        "        # Accumulate losses for logging\n",
        "        total_loss += loss.item()\n",
        "        total_aux_loss += aux_loss.item()\n",
        "\n",
        "    # Calculate training duration\n",
        "    end_time = datetime.now()\n",
        "    training_time = (end_time - start_time).total_seconds()\n",
        "\n",
        "    print(f\"Epoch {epoch + 1}, Total Loss: {total_loss:.2f}, Auxiliary Loss: {total_aux_loss:.2f}, Training Time: {training_time} seconds\")"
      ]
    },
    {
      "cell_type": "code",
      "execution_count": null,
      "metadata": {
        "id": "gnNHDj1iD_aZ"
      },
      "outputs": [],
      "source": [
        "model3 = model"
      ]
    },
    {
      "cell_type": "code",
      "execution_count": null,
      "metadata": {
        "colab": {
          "base_uri": "https://localhost:8080/"
        },
        "id": "5j4Evi9mVuLP",
        "outputId": "8a8ef27a-e853-4d1c-a018-c16658309968"
      },
      "outputs": [
        {
          "name": "stdout",
          "output_type": "stream",
          "text": [
            "The model has approximately 1049098 trainable parameters.\n"
          ]
        }
      ],
      "source": [
        "# Set the model to evaluation mode\n",
        "model.eval()\n",
        "\n",
        "# Approximate model size by counting parameters\n",
        "model_parameters = sum(p.numel() for p in model.parameters() if p.requires_grad)\n",
        "print(f'The model has approximately {model_parameters} trainable parameters.')"
      ]
    },
    {
      "cell_type": "markdown",
      "metadata": {
        "id": "SxlvzCP1Gjf7"
      },
      "source": [
        "## **Frankestein**"
      ]
    },
    {
      "cell_type": "markdown",
      "source": [
        "Since both applications are compatible, I wanted to know if they could be implemented in a single architecture with faster speed or better performance. I decided to create a “Frankenstein” using these. Since MoD accepts any block to wrap, I decided to create a transformer block with GQ Attention instead of multi-head and decided to pass it.\n",
        "\n",
        "Here is a comparison between the standard approach and my hybrid. Standard:\n",
        "\n",
        "\n",
        "```\n",
        "  Input: tokens, original_dim = n\n",
        "  Output: softmax output of dimensions matching vocab_size\n",
        "\n",
        "  For each layer in model_layers:\n",
        "      original_tokens = tokens  # Save the input to the layer for the residual connection\n",
        "      tokens = layer_norm(tokens)  # Normalize the input tokens for the layer\n",
        "\n",
        "      head_outputs = []\n",
        "\n",
        "      For each head in num_heads:\n",
        "          Q = derive_query_matrix(tokens, dim_q)\n",
        "          K = derive_key_matrix(tokens, dim_k)\n",
        "          V = derive_value_matrix(tokens, dim_v)\n",
        "          head_output = attention(Q, K, V)  # Compute attention output\n",
        "          head_outputs.append(head_output)\n",
        "\n",
        "      tokens = concatenate(head_outputs)\n",
        "      tokens = sum(tokens)  # Sum the outputs from all heads\n",
        "      tokens += original_tokens  # Add the residual connection here\n",
        "\n",
        "      tokens = batch_norm(tokens)  # Normalize the combined output\n",
        "      original_tokens_ffn = tokens  # Save the output for the residual connection post-FFN\n",
        "      tokens = FFN(tokens)  # Apply the feed-forward network\n",
        "      tokens += original_tokens_ffn  # Add the residual connection after the FFN\n",
        "\n",
        "  tokens = proj(tokens, dim = vocab_size)  # Project output tokens to vocabulary size\n",
        "  output = softmax(tokens)  # Apply softmax to get probability distribution over vocabulary\n",
        "\n",
        "```\n",
        "\n",
        "Frankenstein Transformer:\n",
        "\n",
        "```\n",
        "Input: tokens, dim = n\n",
        "Output: softmax output of dimensions matching vocab_size\n",
        "\n",
        "For each layer in model_layers:\n",
        "    original_tokens = tokens  # Save the input to the layer for the residual connection\n",
        "\n",
        "    If layer_number % 2 == 0:\n",
        "        tokens = MoD-routing(tokens, p=1)  # Apply MoD-routing with p=1 (full routing) for even layers\n",
        "    Else:\n",
        "        tokens = MoD-routing(tokens, p=0.125)  # Apply MoD-routing with p=0.125 for odd layers\n",
        "\n",
        "    tokens = layer_norm(tokens)  # Normalize the inputs for the layer\n",
        "\n",
        "    head_outputs = []\n",
        "    For each head in num_heads:\n",
        "        Q = derive_query_matrix(tokens, dim_q)\n",
        "        K = derive_key_matrix(tokens, dim_k)\n",
        "        V = derive_value_matrix(tokens, dim_v)\n",
        "        head_output = grouped-query-attention(Q, K, V)  # Grouped-query attention where number of K, V <= Q\n",
        "        head_outputs.append(head_output)\n",
        "\n",
        "    tokens = concatenate(head_outputs)\n",
        "    tokens = sum(tokens)  # Sum the outputs from all heads\n",
        "    tokens += original_tokens  # Add the residual connection after attention sum\n",
        "\n",
        "    tokens = batch_norm(tokens)  # Normalize the combined output\n",
        "    original_tokens_ffn = tokens  # Save the output for the residual connection post-FFN\n",
        "    tokens = FFN(tokens)  # Apply the feed-forward network post normalization\n",
        "    tokens += original_tokens_ffn  # Add the residual connection after the FFN\n",
        "\n",
        "tokens = proj(tokens, dim = vocab_size)  # Project output tokens to vocabulary size\n",
        "output = softmax(tokens)  # Apply softmax to get probability distribution over vocabulary\n",
        "```"
      ],
      "metadata": {
        "id": "ceL9-5rProqG"
      }
    },
    {
      "cell_type": "markdown",
      "source": [
        "This is one of the first implementations of MoD since it has only come out recently, and the only implementation combining it with GQA."
      ],
      "metadata": {
        "id": "81vgi-vT8XLo"
      }
    },
    {
      "cell_type": "code",
      "execution_count": null,
      "metadata": {
        "id": "6HGLiH_UGnWB"
      },
      "outputs": [],
      "source": [
        "class TransformerDecoderLayerGQA(nn.Module):\n",
        "    def __init__(self, embed_dim, query_heads, kv_heads, dim_feedforward=2048):\n",
        "        super().__init__()\n",
        "        self.self_attn = MultiheadGQA(embed_dim, query_heads, kv_heads) # The wrapped block used MultiheadGQA\n",
        "        self.norm1 = nn.LayerNorm(embed_dim)\n",
        "        self.linear1 = nn.Linear(embed_dim, dim_feedforward)\n",
        "        self.linear2 = nn.Linear(dim_feedforward, embed_dim)\n",
        "        self.norm2 = nn.LayerNorm(embed_dim)\n",
        "\n",
        "    def forward(self, tgt, memory, tgt_mask=None, memory_mask=None,\n",
        "                tgt_key_padding_mask=None, memory_key_padding_mask=None,\n",
        "                tgt_is_causal=False, memory_is_causal=False):\n",
        "        tgt2, _ = self.self_attn(tgt, memory, memory, need_weights=False, is_causal=tgt_is_causal)\n",
        "        tgt = tgt + self.norm1(tgt2)\n",
        "        tgt2 = self.linear2(F.relu(self.linear1(tgt)))\n",
        "        tgt = tgt + self.norm2(tgt2)\n",
        "        cache = None\n",
        "        return tgt, cache"
      ]
    },
    {
      "cell_type": "code",
      "execution_count": null,
      "metadata": {
        "id": "vX3sz1ypKEqg"
      },
      "outputs": [],
      "source": [
        "class Frankenstein(nn.Module):\n",
        "    def __init__(self, config):\n",
        "        super(Frankenstein, self).__init__()\n",
        "        self.embedding = nn.Embedding(config.num_tokens, config.d_model)\n",
        "        self.pos_encoder = self.create_positional_encoding(config.max_sequence_length, config.d_model)\n",
        "        # Layers wrapped in MoD\n",
        "        self.layers = nn.ModuleList([\n",
        "            MoD(config if i % 2 == 0 else self.modify_config(config, config.mod_reduced),\n",
        "                TransformerDecoderLayerGQA(config.d_model, config.query_heads, config.kv_heads, config.dim_feedforward))\n",
        "            for i in range(config.num_layers)\n",
        "        ])\n",
        "        self.norm = nn.LayerNorm(config.d_model)\n",
        "        self.final_linear = nn.Linear(config.d_model, config.num_tokens)\n",
        "\n",
        "    def modify_config(self, config, mod_capacity_factor):\n",
        "        config_copy = config.__class__(**{k: v for k, v in vars(config).items()})\n",
        "        setattr(config_copy, 'mod_capacity_factor', mod_capacity_factor)\n",
        "        return config_copy\n",
        "\n",
        "    def create_positional_encoding(self, length, d_model):\n",
        "        position = torch.arange(length).unsqueeze(1)\n",
        "        div_term = torch.exp(torch.arange(0, d_model, 2) * -(math.log(10000.0) / d_model))\n",
        "        pos_encoder = torch.zeros(length, d_model)\n",
        "        pos_encoder[:, 0::2] = torch.sin(position * div_term)\n",
        "        pos_encoder[:, 1::2] = torch.cos(position * div_term)\n",
        "        return nn.Parameter(pos_encoder.unsqueeze(0))\n",
        "\n",
        "    def forward(self, src):\n",
        "        src = self.embedding(src) + self.pos_encoder[:, :src.size(1), :]\n",
        "        memory = None\n",
        "\n",
        "        aux_losses = []\n",
        "        for layer in self.layers:\n",
        "            src, cache, aux_loss = layer(src, memory)\n",
        "            aux_losses.append(aux_loss)\n",
        "\n",
        "        src = self.final_linear(self.norm(src))\n",
        "        return src, sum(aux_losses) / len(aux_losses) if aux_losses else 0"
      ]
    },
    {
      "cell_type": "code",
      "execution_count": null,
      "metadata": {
        "id": "xFrDfuUEKHNz"
      },
      "outputs": [],
      "source": [
        "class Config:\n",
        "    max_sequence_length = 64\n",
        "    num_tokens = 5002  # vocabulary size\n",
        "    d_model = 64  # dimensionality of the token embeddings\n",
        "    query_heads = 8  # number of query heads in multi-head attention mechanisms\n",
        "    kv_heads = 8  # number of key/value heads in multi-head attention mechanisms\n",
        "    dim_feedforward = 512  # dimension of the feedforward network model in transformer\n",
        "    num_layers = 4  # number of decoder layers\n",
        "    mod_capacity_factor = 1  # default capacity factor\n",
        "    mod_reduced = 0.125 # This amount of tokens in every other layer will pass through"
      ]
    },
    {
      "cell_type": "code",
      "execution_count": null,
      "metadata": {
        "colab": {
          "base_uri": "https://localhost:8080/"
        },
        "id": "5cRGFvd-Ytsg",
        "outputId": "2e6205e1-fc92-4241-b20d-69b2a84d2d5a"
      },
      "outputs": [
        {
          "output_type": "stream",
          "name": "stdout",
          "text": [
            "Epoch 1, Total Loss: 9.64, Auxiliary Loss: 205.70, Training Time: 25.383059 seconds\n",
            "Epoch 2, Total Loss: 9.55, Auxiliary Loss: 136.74, Training Time: 25.214517 seconds\n",
            "Epoch 3, Total Loss: 8.54, Auxiliary Loss: 139.08, Training Time: 25.533234 seconds\n"
          ]
        }
      ],
      "source": [
        "config = Config()\n",
        "model = Frankenstein(config).to(device)\n",
        "loss_fn = nn.CrossEntropyLoss().to(device)\n",
        "optimizer = optim.Adam(model.parameters(), lr=0.001)\n",
        "epochs = 3\n",
        "\n",
        "# Training Loop\n",
        "for epoch in range(epochs):\n",
        "    start_time = datetime.now()\n",
        "    model.train()\n",
        "    total_loss = 0\n",
        "    total_aux_loss = 0\n",
        "\n",
        "    for batch in train_loader:\n",
        "        inputs, targets = batch\n",
        "        inputs = inputs.to(device)\n",
        "        targets = targets.to(device)\n",
        "        optimizer.zero_grad()\n",
        "        output, aux_loss = model(inputs)\n",
        "        output = output.reshape(-1, config.num_tokens)\n",
        "        targets = targets.reshape(-1)\n",
        "        loss = loss_fn(output, targets)\n",
        "        total_loss = loss.item() + aux_loss\n",
        "\n",
        "        # Backpropagation\n",
        "        loss.backward()\n",
        "        optimizer.step()\n",
        "\n",
        "        # Accumulate losses for logging\n",
        "        total_loss += loss.item()\n",
        "        total_aux_loss += aux_loss.item()\n",
        "\n",
        "    # Calculate training duration\n",
        "    end_time = datetime.now()\n",
        "    training_time = (end_time - start_time).total_seconds()\n",
        "\n",
        "    print(f\"Epoch {epoch + 1}, Total Loss: {total_loss:.2f}, Auxiliary Loss: {total_aux_loss:.2f}, Training Time: {training_time} seconds\")"
      ]
    },
    {
      "cell_type": "code",
      "execution_count": null,
      "metadata": {
        "id": "Oe5nQhmhdV4Z"
      },
      "outputs": [],
      "source": [
        "model4 = model"
      ]
    },
    {
      "cell_type": "markdown",
      "metadata": {
        "id": "sueaKjioRgPu"
      },
      "source": [
        "## **Comparison**"
      ]
    },
    {
      "cell_type": "markdown",
      "metadata": {
        "id": "5_2Ylv3WKRnG"
      },
      "source": [
        "### **Part I**"
      ]
    },
    {
      "cell_type": "markdown",
      "source": [
        "I compared my initial models below based on perplexity scores and times. However, these might not be the most accurate due to slightly different model architectures due to tweaking during debugging each model, so in Part II, I use particular instances of Frankenstein to emulate each of the other architectures. Therefore, those results are better, but this is generally consistent with them, too."
      ],
      "metadata": {
        "id": "hiNawx9Glu5s"
      }
    },
    {
      "cell_type": "code",
      "execution_count": null,
      "metadata": {
        "id": "QppbgbHfF7JN"
      },
      "outputs": [],
      "source": [
        "# Count number of paramaeters in a model\n",
        "def count_parameters(model):\n",
        "    return sum(p.numel() for p in model.parameters() if p.requires_grad)\n",
        "\n",
        "\n",
        "def calculate_perplexity(model, data_loader, loss_fn, device, vocab_size):\n",
        "    \"\"\"\n",
        "    Calculate the perplexity of a language model, which measures how well the model predicts a sample.\n",
        "\n",
        "    Args:\n",
        "        model (torch.nn.Module): The trained model to evaluate.\n",
        "        data_loader (DataLoader): DataLoader providing input and target batches.\n",
        "        loss_fn (callable): Loss function used to evaluate model performance.\n",
        "        device (str or torch.device): Device to run the model computations on ('cpu' or 'cuda').\n",
        "        vocab_size (int): The size of the vocabulary, not used in this function directly.\n",
        "\n",
        "    Returns:\n",
        "        float: The perplexity score for the given data.\n",
        "    \"\"\"\n",
        "\n",
        "    model.eval()  # Switch the model to evaluation mode (e.g., disable dropout).\n",
        "\n",
        "    total_loss = 0.0  # Initialize total loss accumulated across all batches.\n",
        "    total_items = 0  # Initialize total number of items processed (for averaging loss later).\n",
        "\n",
        "    with torch.no_grad():  # Context manager that disables gradient computation, reducing memory usage and speeding up computations.\n",
        "        for inputs, targets in data_loader:\n",
        "            inputs, targets = inputs.to(device), targets.to(device)  # Move data to the specified device.\n",
        "\n",
        "            outputs = model(inputs)  # Compute the model's output for the given inputs.\n",
        "\n",
        "            if isinstance(outputs, tuple):  # Check if model returns a tuple (e.g., output and hidden states).\n",
        "                outputs = outputs[0]  # If so, use only the logits (first element of tuple) for loss calculation.\n",
        "\n",
        "            outputs = outputs.reshape(-1, vocab_size)  # Flatten the outputs to fit the loss function's requirements.\n",
        "            targets = targets.reshape(-1)  # Flatten the targets accordingly.\n",
        "\n",
        "            loss = loss_fn(outputs, targets)  # Compute the loss between outputs and targets.\n",
        "            total_loss += loss.item() * inputs.size(0)  # Aggregate the loss scaled by batch size for correct averaging.\n",
        "            total_items += inputs.size(0)  # Accumulate the total number of items processed.\n",
        "\n",
        "    average_loss = total_loss / total_items  # Calculate the average loss over all items.\n",
        "    perplexity = torch.exp(torch.tensor(average_loss))  # Compute the perplexity from the average loss.\n",
        "\n",
        "    return perplexity.item()  # Return the perplexity score as a Python float."
      ]
    },
    {
      "cell_type": "code",
      "execution_count": null,
      "metadata": {
        "colab": {
          "base_uri": "https://localhost:8080/"
        },
        "id": "JBJe7666Ep5a",
        "outputId": "8c8019c4-ad7a-4dd0-843c-31af76737ce9"
      },
      "outputs": [
        {
          "output_type": "stream",
          "name": "stdout",
          "text": [
            "Model 1 Parameters: 977,290\n",
            "Model 2 Parameters: 1,013,898\n",
            "Model 3 Parameters: 1,049,098\n",
            "Model 4 Parameters: 982,538\n"
          ]
        }
      ],
      "source": [
        "params1 = count_parameters(model1)\n",
        "params2 = count_parameters(model2)\n",
        "params3 = count_parameters(model3)\n",
        "params4 = count_parameters(model4)\n",
        "\n",
        "print(f\"Model 1 Parameters: {params1:,}\")\n",
        "print(f\"Model 2 Parameters: {params2:,}\")\n",
        "print(f\"Model 3 Parameters: {params3:,}\")\n",
        "print(f\"Model 4 Parameters: {params4:,}\")"
      ]
    },
    {
      "cell_type": "code",
      "execution_count": null,
      "metadata": {
        "colab": {
          "base_uri": "https://localhost:8080/"
        },
        "id": "LA94W2iAnDbC",
        "outputId": "2f890bc9-493f-4b8a-b923-5c3e4c26e41e"
      },
      "outputs": [
        {
          "output_type": "stream",
          "name": "stdout",
          "text": [
            "Perplexity of Model 1 (Vanilla Transformer): 48.25\n",
            "Perplexity of Model 2 (GQA): 51.09\n",
            "Perplexity of Model 3 (MOD): 6026.30\n",
            "Perplexity of Model 4 (FRA): 41.73\n"
          ]
        }
      ],
      "source": [
        "# Evaluate perplexity on test data\n",
        "perplexity1 = calculate_perplexity(model1, test_loader, loss_fn, device, vocab_size)\n",
        "perplexity2 = calculate_perplexity(model2, test_loader, loss_fn, device, vocab_size)\n",
        "perplexity3 = calculate_perplexity(model3, test_loader, loss_fn, device, vocab_size)\n",
        "perplexity4 = calculate_perplexity(model4, test_loader, loss_fn, device, vocab_size)\n",
        "\n",
        "# Print results\n",
        "print(f\"Perplexity of Model 1 (Vanilla Transformer): {perplexity1:.2f}\")\n",
        "print(f\"Perplexity of Model 2 (GQA): {perplexity2:.2f}\")\n",
        "# MoD performance is probably weird because of the dataset, earlier when I trained on a dataset from Shakespeare, it's loss was in the same magnitude as the others\n",
        "print(f\"Perplexity of Model 3 (MOD): {perplexity3:.2f}\")\n",
        "print(f\"Perplexity of Model 4 (FRA): {perplexity4:.2f}\")"
      ]
    },
    {
      "cell_type": "markdown",
      "metadata": {
        "id": "saX43icqKYYh"
      },
      "source": [
        "### **Part II**"
      ]
    },
    {
      "cell_type": "markdown",
      "source": [
        "I realized the only way to have a perfect \"control\" architecture would be to compare Frankenstein to itself. Since an MoD router with p = 1 lets all tokens through on all layers, it becomes a standard transformer. Likewise, when the number of key and value matrices are equal to query matrices, a GQ Attention system is essentially standard multi-head attention.\n",
        "I initalized 4 instances of the Frankenstein:\n",
        "- p = 1, KV_Heads = 8 (Standard Implementation)\n",
        "- P = 0.125, KV_Heads = 8 (MoD Implementation)\n",
        "- p = 1, KV_Heads = 2 (GQA Implementation)\n",
        "- p = 0.125, KV_HEADS = 2 (Hybrid Implementation)\n",
        "\n",
        "As can be seen in the results below, which vary a little by data, the hybrid implementation results in faster training than MoD or GQA alone, yet their performance in terms of perplexity is somewhere between MoD's superior performance and GQA's.\n",
        "\n",
        "The speed boost is only occuring when I train on CPUs, while on GPUs the vanilla architecture is typically slightly faster and I am assuming this is since PyTorch and CUDA kernels are optimized for running standard archtectures. It was interesting to learn that these factors that we are blind to can matter; the author of the GQA library mentions that GQA is only marginally faster than a standard transformer on PyTorch because PyTorch \"standard\" implimentations already use in-built techniques like flash attention."
      ],
      "metadata": {
        "id": "5b3384WFn_n0"
      }
    },
    {
      "cell_type": "code",
      "execution_count": null,
      "metadata": {
        "colab": {
          "base_uri": "https://localhost:8080/",
          "height": 391
        },
        "id": "aZ3EkbFeKY7Z",
        "outputId": "575edecb-8e00-4c19-e74c-3040e28fa39e"
      },
      "outputs": [
        {
          "output_type": "stream",
          "name": "stdout",
          "text": [
            "Training completed: KV Heads = 8, Mod Reduced = 1, Time = 278.91 sec, Params = 982538\n",
            "Training completed: KV Heads = 2, Mod Reduced = 1, Time = 281.00 sec, Params = 944906\n"
          ]
        },
        {
          "output_type": "error",
          "ename": "KeyboardInterrupt",
          "evalue": "",
          "traceback": [
            "\u001b[0;31m---------------------------------------------------------------------------\u001b[0m",
            "\u001b[0;31mKeyboardInterrupt\u001b[0m                         Traceback (most recent call last)",
            "\u001b[0;32m<ipython-input-14-e09529f226d1>\u001b[0m in \u001b[0;36m<cell line: 54>\u001b[0;34m()\u001b[0m\n\u001b[1;32m     68\u001b[0m             \u001b[0mtargets\u001b[0m \u001b[0;34m=\u001b[0m \u001b[0mtargets\u001b[0m\u001b[0;34m.\u001b[0m\u001b[0mreshape\u001b[0m\u001b[0;34m(\u001b[0m\u001b[0;34m-\u001b[0m\u001b[0;36m1\u001b[0m\u001b[0;34m)\u001b[0m\u001b[0;34m\u001b[0m\u001b[0;34m\u001b[0m\u001b[0m\n\u001b[1;32m     69\u001b[0m             \u001b[0mloss\u001b[0m \u001b[0;34m=\u001b[0m \u001b[0mloss_fn\u001b[0m\u001b[0;34m(\u001b[0m\u001b[0moutput\u001b[0m\u001b[0;34m,\u001b[0m \u001b[0mtargets\u001b[0m\u001b[0;34m)\u001b[0m \u001b[0;34m+\u001b[0m \u001b[0maux_loss\u001b[0m\u001b[0;34m\u001b[0m\u001b[0;34m\u001b[0m\u001b[0m\n\u001b[0;32m---> 70\u001b[0;31m             \u001b[0mloss\u001b[0m\u001b[0;34m.\u001b[0m\u001b[0mbackward\u001b[0m\u001b[0;34m(\u001b[0m\u001b[0;34m)\u001b[0m\u001b[0;34m\u001b[0m\u001b[0;34m\u001b[0m\u001b[0m\n\u001b[0m\u001b[1;32m     71\u001b[0m             \u001b[0moptimizer\u001b[0m\u001b[0;34m.\u001b[0m\u001b[0mstep\u001b[0m\u001b[0;34m(\u001b[0m\u001b[0;34m)\u001b[0m\u001b[0;34m\u001b[0m\u001b[0;34m\u001b[0m\u001b[0m\n\u001b[1;32m     72\u001b[0m             \u001b[0mtotal_loss\u001b[0m \u001b[0;34m+=\u001b[0m \u001b[0mloss\u001b[0m\u001b[0;34m.\u001b[0m\u001b[0mitem\u001b[0m\u001b[0;34m(\u001b[0m\u001b[0;34m)\u001b[0m\u001b[0;34m\u001b[0m\u001b[0;34m\u001b[0m\u001b[0m\n",
            "\u001b[0;32m/usr/local/lib/python3.10/dist-packages/torch/_tensor.py\u001b[0m in \u001b[0;36mbackward\u001b[0;34m(self, gradient, retain_graph, create_graph, inputs)\u001b[0m\n\u001b[1;32m    520\u001b[0m                 \u001b[0minputs\u001b[0m\u001b[0;34m=\u001b[0m\u001b[0minputs\u001b[0m\u001b[0;34m,\u001b[0m\u001b[0;34m\u001b[0m\u001b[0;34m\u001b[0m\u001b[0m\n\u001b[1;32m    521\u001b[0m             )\n\u001b[0;32m--> 522\u001b[0;31m         torch.autograd.backward(\n\u001b[0m\u001b[1;32m    523\u001b[0m             \u001b[0mself\u001b[0m\u001b[0;34m,\u001b[0m \u001b[0mgradient\u001b[0m\u001b[0;34m,\u001b[0m \u001b[0mretain_graph\u001b[0m\u001b[0;34m,\u001b[0m \u001b[0mcreate_graph\u001b[0m\u001b[0;34m,\u001b[0m \u001b[0minputs\u001b[0m\u001b[0;34m=\u001b[0m\u001b[0minputs\u001b[0m\u001b[0;34m\u001b[0m\u001b[0;34m\u001b[0m\u001b[0m\n\u001b[1;32m    524\u001b[0m         )\n",
            "\u001b[0;32m/usr/local/lib/python3.10/dist-packages/torch/autograd/__init__.py\u001b[0m in \u001b[0;36mbackward\u001b[0;34m(tensors, grad_tensors, retain_graph, create_graph, grad_variables, inputs)\u001b[0m\n\u001b[1;32m    264\u001b[0m     \u001b[0;31m# some Python versions print out the first line of a multi-line function\u001b[0m\u001b[0;34m\u001b[0m\u001b[0;34m\u001b[0m\u001b[0m\n\u001b[1;32m    265\u001b[0m     \u001b[0;31m# calls in the traceback and some print out the last line\u001b[0m\u001b[0;34m\u001b[0m\u001b[0;34m\u001b[0m\u001b[0m\n\u001b[0;32m--> 266\u001b[0;31m     Variable._execution_engine.run_backward(  # Calls into the C++ engine to run the backward pass\n\u001b[0m\u001b[1;32m    267\u001b[0m         \u001b[0mtensors\u001b[0m\u001b[0;34m,\u001b[0m\u001b[0;34m\u001b[0m\u001b[0;34m\u001b[0m\u001b[0m\n\u001b[1;32m    268\u001b[0m         \u001b[0mgrad_tensors_\u001b[0m\u001b[0;34m,\u001b[0m\u001b[0;34m\u001b[0m\u001b[0;34m\u001b[0m\u001b[0m\n",
            "\u001b[0;31mKeyboardInterrupt\u001b[0m: "
          ]
        }
      ],
      "source": [
        "loss_fn = nn.CrossEntropyLoss().to(device)\n",
        "epochs = 3\n",
        "\n",
        "# Define unique configuration classes\n",
        "class Config1:\n",
        "    max_sequence_length = 64\n",
        "    num_tokens = 5002\n",
        "    d_model = 64\n",
        "    query_heads = 8\n",
        "    kv_heads = 8\n",
        "    dim_feedforward = 512\n",
        "    num_layers = 4\n",
        "    mod_capacity_factor = 1\n",
        "    mod_reduced = 1\n",
        "\n",
        "class Config2:\n",
        "    max_sequence_length = 64\n",
        "    num_tokens = 5002\n",
        "    d_model = 64\n",
        "    query_heads = 8\n",
        "    kv_heads = 2\n",
        "    dim_feedforward = 512\n",
        "    num_layers = 4\n",
        "    mod_capacity_factor = 1\n",
        "    mod_reduced = 1\n",
        "\n",
        "class Config3:\n",
        "    max_sequence_length = 64\n",
        "    num_tokens = 5002\n",
        "    d_model = 64\n",
        "    query_heads = 8\n",
        "    kv_heads = 8\n",
        "    dim_feedforward = 512\n",
        "    num_layers = 4\n",
        "    mod_capacity_factor = 1\n",
        "    mod_reduced = 0.5\n",
        "\n",
        "class Config4:\n",
        "    max_sequence_length = 64\n",
        "    num_tokens = 5002\n",
        "    d_model = 64\n",
        "    query_heads = 8\n",
        "    kv_heads = 2\n",
        "    dim_feedforward = 512\n",
        "    num_layers = 4\n",
        "    mod_capacity_factor = 1\n",
        "    mod_reduced = 0.5\n",
        "\n",
        "configs = [Config1, Config2, Config3, Config4]\n",
        "models = []\n",
        "train_meta = []\n",
        "\n",
        "# Training loop for each configuration class\n",
        "for Config in configs:\n",
        "    model = Frankenstein(Config()).to(device)\n",
        "    optimizer = optim.Adam(model.parameters(), lr=0.001)\n",
        "\n",
        "    start_time = datetime.now()\n",
        "    total_loss = 0\n",
        "\n",
        "    for epoch in range(epochs):\n",
        "        model.train()\n",
        "        for inputs, targets in train_loader:\n",
        "            inputs, targets = inputs.to(device), targets.to(device)\n",
        "            optimizer.zero_grad()\n",
        "            output, aux_loss = model(inputs)\n",
        "            output = output.reshape(-1, Config.num_tokens)\n",
        "            targets = targets.reshape(-1)\n",
        "            loss = loss_fn(output, targets) + aux_loss\n",
        "            loss.backward()\n",
        "            optimizer.step()\n",
        "            total_loss += loss.item()\n",
        "\n",
        "    training_duration = (datetime.now() - start_time).total_seconds()\n",
        "    num_params = sum(p.numel() for p in model.parameters() if p.requires_grad)\n",
        "\n",
        "    models.append(model)\n",
        "    train_meta.append((training_duration, num_params))\n",
        "\n",
        "    print(f\"Training completed: KV Heads = {Config.kv_heads}, Mod Reduced = {Config.mod_reduced}, Time = {training_duration:.2f} sec, Params = {num_params}\")"
      ]
    },
    {
      "cell_type": "code",
      "execution_count": null,
      "metadata": {
        "id": "p5YQmAqsLxDm"
      },
      "outputs": [],
      "source": [
        "vocab_size = 5002\n",
        "\n",
        "perplexities = [\n",
        "    calculate_perplexity(models[0], test_loader, loss_fn, device, vocab_size),\n",
        "    calculate_perplexity(models[1], test_loader, loss_fn, device, vocab_size),\n",
        "    calculate_perplexity(models[2], test_loader, loss_fn, device, vocab_size),\n",
        "    calculate_perplexity(models[3], test_loader, loss_fn, device, vocab_size)\n",
        "]\n",
        "\n",
        "model_names = [\"Vanilla Transformer\", \"GQA\", \"MoD\", \"Frankenstein\"]\n",
        "results = []\n",
        "\n",
        "for i, model in enumerate(models):\n",
        "    results.append({\n",
        "        \"Model Name\": model_names[i],\n",
        "        \"Training Time (s)\": train_meta[i][0],\n",
        "        \"Number of Parameters\": train_meta[i][1],\n",
        "        \"Perplexity\": perplexities[i]\n",
        "    })\n",
        "\n",
        "# Print results in a table\n",
        "print(f\"{'Model Name':<20} | {'Training Time (s)':<17} | {'Number of Parameters':<20} | {'Perplexity':<10}\")\n",
        "print(\"-\" * 75)\n",
        "for result in results:\n",
        "    print(f\"{result['Model Name']:<20} | {result['Training Time (s)']:<17.2f} | {result['Number of Parameters']:<20} | {result['Perplexity']:<10.2f}\")"
      ]
    },
    {
      "cell_type": "markdown",
      "metadata": {
        "id": "TxvFtlfOHc-w"
      },
      "source": [
        "## **Final Model**"
      ]
    },
    {
      "cell_type": "markdown",
      "metadata": {
        "id": "Xr1HiqrMacfM"
      },
      "source": [
        "**Architecture**\n",
        "\n",
        "For my final model architecture, I utilized sinusoidal embeddings. I had initially considered using rotary positional embeddings but found them difficult to implement. Additionally, I replaced the standard batch normalization with [root mean square normalization](https://2020machinelearning.medium.com/deep-dive-into-deep-learning-layers-rmsnorm-and-batch-normalization-b2423552be9f), which leads to more stable learning.\n",
        "\n",
        "I encountered significant issues with scaling—surprising, given that I successfully trained a network with disagreement regularization that was 10 layers deep. This was unfortunate, as the primary goal of this exercise was to efficiently train very large networks, but I was able to train one with 4 million parameters. Increasing the number of layers above four resulted in the loss nappearing as nan. Furthermore, the auxiliary loss from the MoD overwhelmingly dominated the actual cross-entropy loss. To achieve stable learning, I decided to normalize the weight initialization and initialize them from a known distribution. I used a scheduler to adjust the learning rates, and crucially, I normalized the auxiliary loss to be approximately on the same scale as the actual loss, ensuring that both the MoD router layers and the network could be trained effectively, leading to stable learning."
      ]
    },
    {
      "cell_type": "code",
      "execution_count": null,
      "metadata": {
        "id": "h5ztmumd5yJv"
      },
      "outputs": [],
      "source": [
        "class RMSLayerNorm(nn.Module):\n",
        "    \"\"\"\n",
        "    Implements RMS Layer Normalization that normalizes the input features based on the root mean square of\n",
        "    the input minus its mean. This is an alternative to the standard Layer Normalization technique.\n",
        "    \"\"\"\n",
        "    def __init__(self, normalized_shape, eps=1e-5):\n",
        "        \"\"\"\n",
        "        Initialize the RMSLayerNorm module.\n",
        "\n",
        "        Args:\n",
        "            normalized_shape (int or tuple): The shape of the input tensor that should be normalized.\n",
        "                                             This typically corresponds to the features dimension.\n",
        "            eps (float, optional): A small constant (epsilon) added to the denominator for numerical stability.\n",
        "                                   Defaults to 1e-5.\n",
        "        \"\"\"\n",
        "        super().__init__()  # Initialize the parent class (nn.Module)\n",
        "        self.weight = nn.Parameter(torch.ones(normalized_shape))  # Learnable scale parameters\n",
        "        self.bias = nn.Parameter(torch.zeros(normalized_shape))  # Learnable shift parameters\n",
        "        self.eps = eps  # Small constant for numerical stability\n",
        "\n",
        "    def forward(self, x: Tensor) -> Tensor:\n",
        "        \"\"\"\n",
        "        Forward pass of the RMS layer normalization.\n",
        "\n",
        "        Args:\n",
        "            x (Tensor): The input tensor to be normalized.\n",
        "\n",
        "        Returns:\n",
        "            Tensor: The normalized tensor which is scaled and shifted by learnable parameters.\n",
        "        \"\"\"\n",
        "        mean = x.mean(dim=-1, keepdim=True)  # Compute the mean of the last dimension\n",
        "        squared_mean = (x ** 2).mean(dim=-1, keepdim=True)  # Compute the mean of the squares of the last dimension\n",
        "        rms = torch.sqrt(squared_mean - mean**2 + self.eps)  # Compute the root mean square deviation for normalization\n",
        "        x = (x - mean) / rms  # Normalize the input tensor\n",
        "        return self.weight * x + self.bias  # Scale and shift the normalized tensor and return\n",
        "\n",
        "class TransformerDecoderLayerGQA(nn.Module):\n",
        "    def __init__(self, embed_dim, query_heads, kv_heads, dim_feedforward=2048):\n",
        "        super().__init__()\n",
        "        self.self_attn = MultiheadGQA(embed_dim, query_heads, kv_heads) # Use GQA\n",
        "        self.norm1 = RMSLayerNorm(embed_dim)\n",
        "        self.linear1 = nn.Linear(embed_dim, dim_feedforward)\n",
        "        self.linear2 = nn.Linear(dim_feedforward, embed_dim)\n",
        "        self.norm2 = RMSLayerNorm(embed_dim)\n",
        "\n",
        "    def forward(self, tgt, memory, tgt_mask=None, memory_mask=None,\n",
        "                tgt_key_padding_mask=None, memory_key_padding_mask=None,\n",
        "                tgt_is_causal=False, memory_is_causal=False):\n",
        "        tgt2, _ = self.self_attn(tgt, memory, memory, need_weights=False, is_causal=tgt_is_causal)\n",
        "        tgt = tgt + self.norm1(tgt2)\n",
        "        tgt2 = self.linear2(F.relu(self.linear1(tgt)))\n",
        "        tgt = tgt + self.norm2(tgt2)\n",
        "        cache = None\n",
        "        return tgt, cache"
      ]
    },
    {
      "cell_type": "code",
      "execution_count": null,
      "metadata": {
        "id": "X-JeZe1egVtk"
      },
      "outputs": [],
      "source": [
        "# Save and checkpoint model weights\n",
        "def save_model_weights(model, filepath):\n",
        "    torch.save(model.state_dict(), filepath)\n",
        "    print(f\"Model weights saved to {filepath}\")"
      ]
    },
    {
      "cell_type": "code",
      "execution_count": null,
      "metadata": {
        "id": "xvMgKhGomzhm"
      },
      "outputs": [],
      "source": [
        "def init_weights(m):\n",
        "    # Check if the module is a linear layer (fully connected layer)\n",
        "    if isinstance(m, torch.nn.Linear):\n",
        "        # Initialize the weights of the linear layer using Xavier uniform distribution.\n",
        "        # This helps keep the signal in a reasonable range during the initial stages of training.\n",
        "        torch.nn.init.xavier_uniform_(m.weight)\n",
        "        # If the linear layer includes a bias term, initialize it to zero.\n",
        "        if m.bias is not None:\n",
        "            torch.nn.init.constant_(m.bias, 0)\n",
        "\n",
        "    # Check if the module is a layer normalization layer\n",
        "    elif isinstance(m, torch.nn.LayerNorm):\n",
        "        # Initialize the weights of the LayerNorm layer to one.\n",
        "        # This is standard practice to maintain the output's scale as training starts.\n",
        "        torch.nn.init.constant_(m.weight, 1)\n",
        "        # Initialize the bias of the LayerNorm layer to zero.\n",
        "        torch.nn.init.constant_(m.bias, 0)"
      ]
    },
    {
      "cell_type": "code",
      "execution_count": null,
      "metadata": {
        "colab": {
          "base_uri": "https://localhost:8080/"
        },
        "id": "ZHsqOUuW744Y",
        "outputId": "8fe806aa-12c9-4350-fe5c-f80b8f0ca51d"
      },
      "outputs": [
        {
          "output_type": "stream",
          "name": "stderr",
          "text": [
            "/usr/local/lib/python3.10/dist-packages/torch/optim/lr_scheduler.py:156: UserWarning: The epoch parameter in `scheduler.step()` was not necessary and is being deprecated where possible. Please use `scheduler.step()` to step the scheduler. During the deprecation, if epoch is different from None, the closed form is used instead of the new chainable form, where available. Please open an issue if you are unable to replicate your use case: https://github.com/pytorch/pytorch/issues/new/choose.\n",
            "  warnings.warn(EPOCH_DEPRECATION_WARNING, UserWarning)\n"
          ]
        },
        {
          "output_type": "stream",
          "name": "stdout",
          "text": [
            "Epoch 1, Training Loss: 4053.63, Test Loss: 52.29, Training Time: 78.02 seconds\n",
            "Model weights saved to model_epoch_1.pt\n",
            "Epoch 2, Training Loss: 171.71, Test Loss: 38.44, Training Time: 77.55 seconds\n",
            "Model weights saved to model_epoch_2.pt\n",
            "Epoch 3, Training Loss: 145.59, Test Loss: 33.98, Training Time: 77.11 seconds\n",
            "Model weights saved to model_epoch_3.pt\n",
            "Epoch 4, Training Loss: 131.72, Test Loss: 32.80, Training Time: 76.84 seconds\n",
            "Model weights saved to model_epoch_4.pt\n",
            "Epoch 5, Training Loss: 126.56, Test Loss: 31.49, Training Time: 76.74 seconds\n",
            "Model weights saved to model_epoch_5.pt\n",
            "Epoch 6, Training Loss: 123.39, Test Loss: 31.66, Training Time: 76.98 seconds\n",
            "Model weights saved to model_epoch_6.pt\n",
            "Epoch 7, Training Loss: 121.35, Test Loss: 30.63, Training Time: 76.66 seconds\n",
            "Model weights saved to model_epoch_7.pt\n",
            "Epoch 8, Training Loss: 119.71, Test Loss: 30.41, Training Time: 76.63 seconds\n",
            "Model weights saved to model_epoch_8.pt\n",
            "Epoch 9, Training Loss: 118.53, Test Loss: 30.78, Training Time: 76.54 seconds\n",
            "Model weights saved to model_epoch_9.pt\n",
            "Epoch 10, Training Loss: 116.74, Test Loss: 29.79, Training Time: 79.24 seconds\n",
            "Model weights saved to model_epoch_10.pt\n",
            "Epoch 11, Training Loss: 115.55, Test Loss: 29.57, Training Time: 76.49 seconds\n",
            "Model weights saved to model_epoch_11.pt\n",
            "Epoch 12, Training Loss: 114.60, Test Loss: 29.90, Training Time: 76.52 seconds\n",
            "Model weights saved to model_epoch_12.pt\n",
            "Epoch 13, Training Loss: 113.41, Test Loss: 29.85, Training Time: 75.85 seconds\n",
            "Model weights saved to model_epoch_13.pt\n",
            "Epoch 14, Training Loss: 112.71, Test Loss: 29.48, Training Time: 75.88 seconds\n",
            "Model weights saved to model_epoch_14.pt\n",
            "Epoch 15, Training Loss: 111.95, Test Loss: 29.65, Training Time: 76.87 seconds\n",
            "Model weights saved to model_epoch_15.pt\n"
          ]
        }
      ],
      "source": [
        "# Configuration and Model Setup\n",
        "class Config:\n",
        "    # Configuration class for storing model and training parameters\n",
        "    max_sequence_length = 256\n",
        "    num_tokens = 5002\n",
        "    d_model = 256\n",
        "    query_heads = 16\n",
        "    kv_heads = 4\n",
        "    dim_feedforward = 512\n",
        "    num_layers = 4\n",
        "    mod_capacity_factor = 1\n",
        "    mod_reduced = 0.125\n",
        "\n",
        "config = Config()\n",
        "model = Frankenstein(config).to(device)  # Instantiate model with the given configuration and move to device\n",
        "model.apply(init_weights)  # Apply weight initialization using the init_weights function\n",
        "loss_fn = nn.CrossEntropyLoss().to(device)  # Define the loss function and move to the appropriate device\n",
        "optimizer = optim.Adam(model.parameters(), lr=0.0005, weight_decay=1e-4)  # Set up the optimizer with weight decay\n",
        "scheduler = torch.optim.lr_scheduler.CosineAnnealingLR(optimizer, T_max=50)  # Scheduler for adjusting learning rate\n",
        "\n",
        "import datetime\n",
        "\n",
        "# Parameters\n",
        "epochs = 15\n",
        "device = torch.device(\"cuda\" if torch.cuda.is_available() else \"cpu\")  # Determine whether CUDA is available\n",
        "\n",
        "# Training and Evaluation\n",
        "train_losses = []\n",
        "test_losses = []\n",
        "time_list = []\n",
        "\n",
        "for epoch in range(epochs):\n",
        "    start_time = datetime.datetime.now()  # Record start time of the epoch\n",
        "\n",
        "    # Training phase\n",
        "    model.train()  # Switch model to training mode (enables dropout, batch normalization)\n",
        "    total_train_loss = 0\n",
        "    total_aux_loss = 0\n",
        "    count_batches = 0\n",
        "\n",
        "    for inputs, targets in train_loader:\n",
        "        inputs, targets = inputs.to(device), targets.to(device)  # Move data to the correct device\n",
        "        optimizer.zero_grad()  # Clear gradients before each backpropagation\n",
        "        output, aux_loss = model(inputs)  # Forward pass through the model\n",
        "        output = output.reshape(-1, config.num_tokens)\n",
        "        targets = targets.reshape(-1)\n",
        "        loss = loss_fn(output, targets)  # Compute primary loss\n",
        "\n",
        "        # Normalize the auxiliary loss to scale it with the primary loss\n",
        "        mean_primary_loss = total_train_loss / max(count_batches, 1)  # Calculate mean primary loss to avoid zero division\n",
        "        normalized_aux_loss = 0.5 * aux_loss / (mean_primary_loss + 1e-8)  # Add small epsilon to prevent division by zero\n",
        "\n",
        "        combined_loss = loss + normalized_aux_loss  # Combine primary and auxiliary losses\n",
        "\n",
        "        combined_loss.backward()  # Backpropagate the total loss\n",
        "        optimizer.step()  # Update model parameters\n",
        "\n",
        "        total_train_loss += loss.item()  # Aggregate primary loss\n",
        "        total_aux_loss += aux_loss.item()  # Aggregate auxiliary loss\n",
        "        count_batches += 1\n",
        "\n",
        "    scheduler.step(total_train_loss / count_batches)  # Update learning rate based on average primary loss\n",
        "\n",
        "    train_losses.append(total_train_loss)  # Record training loss for this epoch\n",
        "\n",
        "    # Evaluation phase\n",
        "    model.eval()  # Switch model to evaluation mode (disables dropout, batch normalization)\n",
        "    total_test_loss = 0\n",
        "    with torch.no_grad():  # Context manager that disables gradient calculation\n",
        "        for inputs, targets in test_loader:\n",
        "            inputs, targets = inputs.to(device), targets.to(device)\n",
        "            output, aux_loss = model(inputs)\n",
        "            output = output.reshape(-1, config.num_tokens)\n",
        "            targets = targets.reshape(-1)\n",
        "            loss = loss_fn(output, targets)\n",
        "            total_test_loss += loss.item()  # Sum up test loss\n",
        "\n",
        "    test_losses.append(total_test_loss)  # Record test loss for this epoch\n",
        "    training_time = (datetime.datetime.now() - start_time).total_seconds()  # Calculate elapsed time for the epoch\n",
        "    time_list.append(training_time)  # Record training time\n",
        "\n",
        "    # Output results for this epoch\n",
        "    print(f\"Epoch {epoch + 1}, Training Loss: {total_train_loss:.2f}, Test Loss: {total_test_loss:.2f}, Training Time: {training_time:.2f} seconds\")\n",
        "\n",
        "    # Save model weights at the end of each epoch\n",
        "    save_model_weights(model, f\"model_epoch_{epoch+1}.pt\")"
      ]
    },
    {
      "cell_type": "code",
      "execution_count": null,
      "metadata": {
        "colab": {
          "base_uri": "https://localhost:8080/"
        },
        "id": "bqAaZ2TISTya",
        "outputId": "c71146de-9686-4c1b-dc88-32ab9925b642"
      },
      "outputs": [
        {
          "output_type": "stream",
          "name": "stdout",
          "text": [
            " i would would travelbu pilot pilothesionseciles hous parliamentec liber employrian making tro tro commission effweenaker arran refrane captino westernange athlet planned pun concgeneral jrential automneiance stock inspired target museum ger chap technrovers oper ref\n"
          ]
        }
      ],
      "source": [
        "def generate_text(model, start_sequence, max_length=50, temperature=1.2, top_p=0.9, device='cpu'):\n",
        "    model.eval()  # Switch model to evaluation mode (deactivates dropout layers).\n",
        "    model.to(device)  # Move the model to the specified device (CPU or GPU).\n",
        "    sequence = start_sequence.to(device)  # Transfer the initial input sequence to the specified device.\n",
        "\n",
        "    with torch.no_grad():  # Disable gradient calculations for efficiency and to prevent memory usage growth.\n",
        "        for _ in range(max_length):  # Generate up to max_length tokens.\n",
        "            output, _ = model(sequence)  # Get the model output for the current sequence and ignore any auxiliary outputs.\n",
        "            logits = output[:, -1, :] / temperature  # Scale the logits by the temperature parameter to adjust \"sharpness\" of the distribution.\n",
        "\n",
        "            # Sort logits to identify the most probable next tokens.\n",
        "            sorted_logits, sorted_indices = torch.sort(logits, descending=True)\n",
        "            # Calculate cumulative probabilities for the sorted logits.\n",
        "            cumulative_probs = torch.cumsum(F.softmax(sorted_logits, dim=-1), dim=-1)\n",
        "\n",
        "            # Eliminate tokens with a cumulative probability higher than top_p, ensuring diversity.\n",
        "            sorted_indices_to_remove = cumulative_probs > top_p\n",
        "            # Shift the mask to the right, keeping the first token that exceeds the threshold.\n",
        "            sorted_indices_to_remove[..., 1:] = sorted_indices_to_remove[..., :-1].clone()\n",
        "            sorted_indices_to_remove[..., 0] = 0  # Always keep the most probable token.\n",
        "\n",
        "            indices_to_remove = sorted_indices[sorted_indices_to_remove]\n",
        "            logits[:, indices_to_remove] = float('-inf')  # Set removed logits to negative infinity to exclude them.\n",
        "\n",
        "            probabilities = F.softmax(logits, dim=-1)  # Recompute probabilities after modification.\n",
        "            next_token = torch.multinomial(probabilities, 1)  # Sample the next token.\n",
        "\n",
        "            # Append the sampled token to the sequence and ensure it is on the right device.\n",
        "            sequence = torch.cat([sequence, next_token.to(device)], dim=1)\n",
        "            if next_token.item() == eos_token_id:  # Check for the end-of-sequence token.\n",
        "                break\n",
        "\n",
        "    return sequence  # Return the generated sequence.\n",
        "\n",
        "# Usage Example\n",
        "device = torch.device(\"cuda\" if torch.cuda.is_available() else \"cpu\")  # Determine the device to use.\n",
        "start_text = \"i\"\n",
        "start_sequence = torch.tensor([dataset.tokenizer.encode(start_text)], dtype=torch.long)  # Prepare initial input sequence.\n",
        "eos_token_id = dataset.tokenizer.word_index.get(\"<EOS>\", -1)  # Retrieve the End-Of-Sequence token ID, with a fallback.\n",
        "\n",
        "# Generate text\n",
        "generated_sequence = generate_text(model, start_sequence, max_length=50, temperature=2, top_p=0.9, device=device)\n",
        "# Convert tensor to CPU, decode it, and clean up the representation.\n",
        "generated_text = ''.join(dataset.tokenizer.decode(generated_sequence.cpu()[0].tolist()))\n",
        "generated_text = generated_text.replace('▁', ' ')  # Replace subword token separator with space for readability.\n",
        "\n",
        "print(generated_text)  # Output the generated text."
      ]
    },
    {
      "cell_type": "code",
      "execution_count": null,
      "metadata": {
        "colab": {
          "base_uri": "https://localhost:8080/"
        },
        "id": "Jny9nTaRVsOg",
        "outputId": "ccb53b23-224b-4949-fae2-a4fcf208ee80"
      },
      "outputs": [
        {
          "output_type": "stream",
          "name": "stdout",
          "text": [
            "Number of trainable parameters: 4151690\n"
          ]
        }
      ],
      "source": [
        "def print_num_params(model):\n",
        "    total_params = sum(p.numel() for p in model.parameters() if p.requires_grad)\n",
        "    print(f\"Number of trainable parameters: {total_params}\")\n",
        "\n",
        "# Print the number of trainable parameters\n",
        "print_num_params(model)"
      ]
    },
    {
      "cell_type": "code",
      "execution_count": null,
      "metadata": {
        "colab": {
          "base_uri": "https://localhost:8080/"
        },
        "id": "uMd4q6aoXAgD",
        "outputId": "b6689585-08c0-49d7-ee47-a5f041825998"
      },
      "outputs": [
        {
          "output_type": "stream",
          "name": "stdout",
          "text": [
            "Perplexity of Model (Frankenstein): 1.04\n"
          ]
        }
      ],
      "source": [
        "perplexity = calculate_perplexity(model, test_loader, loss_fn, device, 5002)\n",
        "\n",
        "# Print results\n",
        "print(f\"Perplexity of Model (Frankenstein): {perplexity:.2f}\")"
      ]
    },
    {
      "cell_type": "code",
      "execution_count": null,
      "metadata": {
        "colab": {
          "base_uri": "https://localhost:8080/",
          "height": 807
        },
        "id": "im0LkHTSHAyl",
        "outputId": "15992320-69c0-49e7-d805-d2f570907c6d"
      },
      "outputs": [
        {
          "output_type": "display_data",
          "data": {
            "text/plain": [
              "<Figure size 1200x800 with 2 Axes>"
            ],
            "image/png": "[encoded data removed]"
          },
          "metadata": {}
        }
      ],
      "source": [
        "# Set up epoch range\n",
        "epochs = range(1, 16)\n",
        "\n",
        "# Create figure with specific size\n",
        "plt.figure(figsize=(12, 8))\n",
        "\n",
        "# Plot training and test losses on a logarithmic scale\n",
        "plt.subplot(2, 1, 1)\n",
        "plt.plot(epochs, np.log(train_losses), label='Training Loss', marker='o', color='blue')\n",
        "plt.plot(epochs, np.log(test_losses), label='Test Loss', marker='o', color='red')\n",
        "plt.title('Logarithmic Loss Over Epochs')\n",
        "plt.xlabel('Epoch')\n",
        "plt.ylabel('Log Loss')\n",
        "plt.legend()\n",
        "plt.grid()\n",
        "\n",
        "# Plot training times per epoch\n",
        "plt.subplot(2, 1, 2)\n",
        "plt.plot(epochs, time_list, label='Training Time', marker='o', color='green')\n",
        "plt.title('Training Time Per Epoch')\n",
        "plt.xlabel('Epoch')\n",
        "plt.ylabel('Time (seconds)')\n",
        "plt.legend()\n",
        "plt.grid()\n",
        "\n",
        "# Adjust layout and display the plot\n",
        "plt.tight_layout()\n",
        "plt.show()"
      ]
    },
    {
      "cell_type": "markdown",
      "source": [
        "### **Analysis**"
      ],
      "metadata": {
        "id": "UeIdd-7_zz4i"
      }
    },
    {
      "cell_type": "markdown",
      "source": [
        "I believe that the inability to train deeper models prevented me from producing a piece of text that was actually legible, as it remained a mess of byte pair encoded tokens. However, there were some patterns in the text, such as \"pilot\" and \"travel\" appearing next to each other. Another likely issue was that at lower temperatures, the model would just repeat itself. This forced me to use higher temperatures, which failed to produce legible text. This is likely why the vanilla transformer, trained for just three epochs on a tinier subset of data, performed nearly as well as the larger model as it did not overfit.\n",
        "\n",
        "\"hectorrirs you sayie:m time too, baby t seasons i't let me th got done..im bet we would be too on falled alongly blue.y could all that man what it, (no\"\n",
        "\n",
        "In fact, the data might be overfit, indicated by the unnaturally low perplexity value of 1.04. I should consider checkpointing the model earlier to see if this leads to improved performance, rather than merely a higher loss."
      ],
      "metadata": {
        "id": "LvdapeD3z2QD"
      }
    },
    {
      "cell_type": "markdown",
      "source": [
        "**Conclusion**\n",
        "\n",
        "This was an interesting deep dive into coding simple transformers for the first time and also experimenting and building upon existing literature. It has taught me that architecture is only one of the pillars of a good model; quality of data, hardware optimizations, and training methods are all essential to guaranteeing good performance. I would like to continue learning more about these."
      ],
      "metadata": {
        "id": "p9Oz-ZFLzsRN"
      }
    },
    {
      "cell_type": "markdown",
      "source": [
        "[**Link to Colab Notebook**](https://colab.research.google.com/drive/10AKSUBJvSYvFJeXu2L8WGO6FOBIhr4YE?usp=sharing)\n",
        "\n",
        "[**Model Weights**](https://github.com/MSaadAsad/Projects/blob/main/model_epoch_15.pt)"
      ],
      "metadata": {
        "id": "lFyvKsQ73E3i"
      }
    },
    {
      "cell_type": "markdown",
      "source": [
        "**Citations**\n",
        "\n",
        "Ainslie, Joshua, et al. “GQA: Training Generalized Multi-Query Transformer Models from Multi-Head Checkpoints.” arXiv.Org, 23 Dec. 2023, doi.org/10.48550/arXiv.2305.13245.\n",
        "\n",
        "Benistant, Francis. “Deep Dive into Deep Learning: Layers, RMSNorm, and Batch Normalization.” Medium, Medium, 14 Mar. 2024, 2020machinelearning.medium.com/deep-dive-into-deep-learning-layers-rmsnorm-and-batch-normalization-b2423552be9f.\n",
        "\n",
        "Li, Jian, et al. “Multi-Head Attention with Disagreement Regularization.” arXiv.Org, 24 Oct. 2018, doi.org/10.48550/arXiv.1810.10183.\n",
        "\n",
        "Pathak, Kaustubh. “Songs Lyrics.” Kaggle, 23 June 2020, www.kaggle.com/datasets/terminate9298/songs-lyrics.\n",
        "\n",
        "Raposo, David, et al. “Mixture-of-Depths: Dynamically Allocating Compute in Transformer-Based Language Models.” arXiv.Org, 2 Apr. 2024, doi.org/10.48550/arXiv.2404.02258."
      ],
      "metadata": {
        "id": "eB2i_XJpz9h7"
      }
    },
    {
      "cell_type": "markdown",
      "source": [
        "**AI Statement** GPT was used to research concepts like RMSE Norm and Byte Pair Encodings, and help it guiding me understand model training."
      ],
      "metadata": {
        "id": "_crfTomuz9sn"
      }
    }
  ],
  "metadata": {
    "colab": {
      "collapsed_sections": [
        "ZwHQlKyqtd2r",
        "5rPgX20SnRF4",
        "LjA363JaE_lS",
        "BdAU3qiK6gXq",
        "akqza-CsHgMt",
        "CRiGODMEgmyW",
        "-G9eRrfuj2p0",
        "x0DkFcA2onyg",
        "SxlvzCP1Gjf7",
        "5_2Ylv3WKRnG"
      ],
      "machine_shape": "hm",
      "provenance": [],
      "toc_visible": true,
      "gpuType": "T4"
    },
    "kernelspec": {
      "display_name": "Python 3",
      "name": "python3"
    },
    "language_info": {
      "name": "python"
    },
    "accelerator": "GPU"
  },
  "nbformat": 4,
  "nbformat_minor": 0
}